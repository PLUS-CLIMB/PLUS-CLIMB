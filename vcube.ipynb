{
 "cells": [
  {
   "cell_type": "markdown",
   "id": "d37e029c",
   "metadata": {},
   "source": [
    "## Virtual Cube Trial"
   ]
  },
  {
   "cell_type": "code",
   "execution_count": 1,
   "id": "0c44a505",
   "metadata": {},
   "outputs": [],
   "source": [
    "from vcube import*"
   ]
  },
  {
   "cell_type": "code",
   "execution_count": 8,
   "id": "80309443",
   "metadata": {},
   "outputs": [
    {
     "name": "stdout",
     "output_type": "stream",
     "text": [
      "Engine starting...\n",
      "Searching STAC .....\n",
      "Total scenes found: 67\n",
      "Scenes covering input area: 35\n",
      "Scenes after removing overlaps: 35\n",
      "Filter from : 2017-01-28 to : 2017-12-29\n",
      "Selecting 1 image per 45 days\n",
      "Scenes after applying smart filter: 7\n",
      "Using Parallel Processing...\n",
      "Computing Band Calculation: 100%|██████████| 7/7 [01:11<00:00, 10.25s/it]\n",
      "Aggregating results...\n",
      "Saving aggregated result with colormap...\n",
      "Creating GIF and zipping TIFF files...\n",
      "Saved timeseries GIF to saint_louis_15_16\\output.gif\n",
      "Saved intermediate images ZIP to saint_louis_15_16\\tiff_files.zip\n"
     ]
    }
   ],
   "source": [
    "from vcube.engine import VCubeProcessor\n",
    "\n",
    "processor = VCubeProcessor(\n",
    "    bbox=[-16.618537902832035,14.396773712446521,-16.223030090332035,14.60351823401856],\n",
    "    start_date=\"2016-01-01\",\n",
    "    end_date=\"2018-01-01\",\n",
    "    cloud_cover=30,\n",
    "    formula=\"(band2-band1)/(band2+band1)\",\n",
    "    band1=\"red\",\n",
    "    band2=\"nir\",\n",
    "    operation=\"median\",\n",
    "    timeseries=True,\n",
    "    output_dir=\"saint_louis_15_16\",\n",
    "    workers=16,\n",
    "    smart_filter=True\n",
    ")\n",
    "\n",
    "processor.compute()"
   ]
  }
 ],
 "metadata": {
  "kernelspec": {
   "display_name": "Python 3",
   "language": "python",
   "name": "python3"
  },
  "language_info": {
   "codemirror_mode": {
    "name": "ipython",
    "version": 3
   },
   "file_extension": ".py",
   "mimetype": "text/x-python",
   "name": "python",
   "nbconvert_exporter": "python",
   "pygments_lexer": "ipython3",
   "version": "3.12.9"
  }
 },
 "nbformat": 4,
 "nbformat_minor": 5
}
