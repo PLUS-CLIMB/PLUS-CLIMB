{
 "cells": [
  {
   "cell_type": "markdown",
   "id": "5071afec",
   "metadata": {
    "tags": []
   },
   "source": [
    "# Landsat Collection 2 on AWS\n",
    "\n",
    "This notebook explores the Landsat Collection 2 data on AWS:\n",
    "\n",
    "- [Landsat Collection 2 STAC API](https://landsatlook.usgs.gov/stac-server), a catalog of Landsat data\n",
    "- [pystac-client](https://pystac-client.readthedocs.io/) for searching and access data\n",
    "- [OpenDataCube](https://www.opendatacube.org/) and [odc-stac](https://odc-stac.readthedocs.io/) for loading STAC assets and representing geospatial data as XArrays\n",
    "- [XArray](http://xarray.pydata.org/en/stable/), [pandas](https://pandas.pydata.org/) and [geopandas](https://geopandas.org/) for manipulating data\n",
    "- [Dask](https://dask.org/) for performing parallel, distributed computing\n",
    "- [Coiled.io](https://coiled.io/), a service for hosting Dask clusters\n",
    "- [hvplot](https://hvplot.holoviz.org/) for visualization\n",
    "\n",
    "Shown will be how to find data for an area of interest, explore the resulting metadata, perform calculations, and visualize the results.\n",
    "\n",
    "Created by [Element 84](http://element84.com/)"
   ]
  },
  {
   "cell_type": "code",
   "execution_count": 5,
   "id": "472b3e1b",
   "metadata": {},
   "outputs": [
    {
     "name": "stdout",
     "output_type": "stream",
     "text": [
      "Defaulting to user installation because normal site-packages is not writeable\n",
      "Collecting geopandas\n",
      "  Using cached geopandas-1.0.1-py3-none-any.whl.metadata (2.2 kB)\n",
      "Collecting numpy>=1.22 (from geopandas)\n",
      "  Using cached numpy-2.2.5-cp312-cp312-win_amd64.whl.metadata (60 kB)\n",
      "Collecting pyogrio>=0.7.2 (from geopandas)\n",
      "  Using cached pyogrio-0.10.0-cp312-cp312-win_amd64.whl.metadata (5.6 kB)\n",
      "Collecting packaging (from geopandas)\n",
      "  Using cached packaging-25.0-py3-none-any.whl.metadata (3.3 kB)\n",
      "Collecting pandas>=1.4.0 (from geopandas)\n",
      "  Using cached pandas-2.2.3-cp312-cp312-win_amd64.whl.metadata (19 kB)\n",
      "Collecting pyproj>=3.3.0 (from geopandas)\n",
      "  Using cached pyproj-3.7.1-cp312-cp312-win_amd64.whl.metadata (31 kB)\n",
      "Collecting shapely>=2.0.0 (from geopandas)\n",
      "  Using cached shapely-2.1.0-cp312-cp312-win_amd64.whl.metadata (7.0 kB)\n",
      "Collecting python-dateutil>=2.8.2 (from pandas>=1.4.0->geopandas)\n",
      "  Using cached python_dateutil-2.9.0.post0-py2.py3-none-any.whl.metadata (8.4 kB)\n",
      "Collecting pytz>=2020.1 (from pandas>=1.4.0->geopandas)\n",
      "  Using cached pytz-2025.2-py2.py3-none-any.whl.metadata (22 kB)\n",
      "Collecting tzdata>=2022.7 (from pandas>=1.4.0->geopandas)\n",
      "  Using cached tzdata-2025.2-py2.py3-none-any.whl.metadata (1.4 kB)\n",
      "Collecting certifi (from pyogrio>=0.7.2->geopandas)\n",
      "  Using cached certifi-2025.1.31-py3-none-any.whl.metadata (2.5 kB)\n",
      "Collecting six>=1.5 (from python-dateutil>=2.8.2->pandas>=1.4.0->geopandas)\n",
      "  Using cached six-1.17.0-py2.py3-none-any.whl.metadata (1.7 kB)\n",
      "Using cached geopandas-1.0.1-py3-none-any.whl (323 kB)\n",
      "Using cached numpy-2.2.5-cp312-cp312-win_amd64.whl (12.6 MB)\n",
      "Using cached pandas-2.2.3-cp312-cp312-win_amd64.whl (11.5 MB)\n",
      "Using cached pyogrio-0.10.0-cp312-cp312-win_amd64.whl (16.2 MB)\n",
      "Using cached pyproj-3.7.1-cp312-cp312-win_amd64.whl (6.3 MB)\n",
      "Using cached shapely-2.1.0-cp312-cp312-win_amd64.whl (1.7 MB)\n",
      "Using cached packaging-25.0-py3-none-any.whl (66 kB)\n",
      "Using cached python_dateutil-2.9.0.post0-py2.py3-none-any.whl (229 kB)\n",
      "Using cached pytz-2025.2-py2.py3-none-any.whl (509 kB)\n",
      "Using cached tzdata-2025.2-py2.py3-none-any.whl (347 kB)\n",
      "Using cached certifi-2025.1.31-py3-none-any.whl (166 kB)\n",
      "Using cached six-1.17.0-py2.py3-none-any.whl (11 kB)\n",
      "Installing collected packages: pytz, tzdata, six, packaging, numpy, certifi, shapely, python-dateutil, pyproj, pyogrio, pandas, geopandas\n",
      "Successfully installed certifi-2024.2.2 geopandas-1.0.1 numpy-1.26.4 packaging-24.1 pandas-2.2.2 pyogrio-0.10.0 pyproj-3.7.0 python-dateutil-2.9.0.post0 pytz-2024.1 shapely-2.0.6 six-1.16.0 tzdata-2024.1\n"
     ]
    },
    {
     "name": "stderr",
     "output_type": "stream",
     "text": [
      "  WARNING: The scripts f2py.exe and numpy-config.exe are installed in 'C:\\Users\\Khizer Zakir\\AppData\\Local\\Packages\\PythonSoftwareFoundation.Python.3.12_qbz5n2kfra8p0\\LocalCache\\local-packages\\Python312\\Scripts' which is not on PATH.\n",
      "  Consider adding this directory to PATH or, if you prefer to suppress this warning, use --no-warn-script-location.\n",
      "  WARNING: The script pyproj.exe is installed in 'C:\\Users\\Khizer Zakir\\AppData\\Local\\Packages\\PythonSoftwareFoundation.Python.3.12_qbz5n2kfra8p0\\LocalCache\\local-packages\\Python312\\Scripts' which is not on PATH.\n",
      "  Consider adding this directory to PATH or, if you prefer to suppress this warning, use --no-warn-script-location.\n",
      "ERROR: pip's dependency resolver does not currently take into account all the packages that are installed. This behaviour is the source of the following dependency conflicts.\n",
      "streamlit 1.37.0 requires packaging<25,>=20, but you have packaging 25.0 which is incompatible.\n"
     ]
    }
   ],
   "source": [
    "!python3 -m pip install geopandas -I"
   ]
  },
  {
   "cell_type": "code",
   "execution_count": 6,
   "id": "3120189b-b49c-41d5-a702-88548ba24b49",
   "metadata": {},
   "outputs": [
    {
     "ename": "ImportError",
     "evalue": "DLL load failed while importing _multiarray_umath: The specified module could not be found.",
     "output_type": "error",
     "traceback": [
      "\u001b[31m---------------------------------------------------------------------------\u001b[39m",
      "\u001b[31mImportError\u001b[39m                               Traceback (most recent call last)",
      "\u001b[31mImportError\u001b[39m: DLL load failed while importing _multiarray_umath: The specified module could not be found."
     ]
    },
    {
     "ename": "ImportError",
     "evalue": "numpy._core.multiarray failed to import",
     "output_type": "error",
     "traceback": [
      "\u001b[31m---------------------------------------------------------------------------\u001b[39m",
      "\u001b[31mImportError\u001b[39m                               Traceback (most recent call last)",
      "\u001b[36mCell\u001b[39m\u001b[36m \u001b[39m\u001b[32mIn[6]\u001b[39m\u001b[32m, line 7\u001b[39m\n\u001b[32m      1\u001b[39m \u001b[38;5;66;03m# initial imports and reusable functions\u001b[39;00m\n\u001b[32m      2\u001b[39m \n\u001b[32m      3\u001b[39m \u001b[38;5;66;03m# import holoviews as hv\u001b[39;00m\n\u001b[32m      4\u001b[39m \u001b[38;5;66;03m# hv.extension('bokeh')\u001b[39;00m\n\u001b[32m      6\u001b[39m \u001b[38;5;28;01mfrom\u001b[39;00m\u001b[38;5;250m \u001b[39m\u001b[34;01mcopy\u001b[39;00m\u001b[38;5;250m \u001b[39m\u001b[38;5;28;01mimport\u001b[39;00m deepcopy\n\u001b[32m----> \u001b[39m\u001b[32m7\u001b[39m \u001b[38;5;28;01mimport\u001b[39;00m\u001b[38;5;250m \u001b[39m\u001b[34;01mgeopandas\u001b[39;00m\u001b[38;5;250m \u001b[39m\u001b[38;5;28;01mas\u001b[39;00m\u001b[38;5;250m \u001b[39m\u001b[34;01mgpd\u001b[39;00m\n\u001b[32m      8\u001b[39m \u001b[38;5;28;01mimport\u001b[39;00m\u001b[38;5;250m \u001b[39m\u001b[34;01mhvplot\u001b[39;00m\u001b[34;01m.\u001b[39;00m\u001b[34;01mpandas\u001b[39;00m\n\u001b[32m      9\u001b[39m \u001b[38;5;28;01mimport\u001b[39;00m\u001b[38;5;250m \u001b[39m\u001b[34;01mpandas\u001b[39;00m\u001b[38;5;250m \u001b[39m\u001b[38;5;28;01mas\u001b[39;00m\u001b[38;5;250m \u001b[39m\u001b[34;01mpd\u001b[39;00m\n",
      "\u001b[36mFile \u001b[39m\u001b[32mc:\\Users\\Khizer Zakir\\.conda\\envs\\virtucube\\Lib\\site-packages\\geopandas\\__init__.py:3\u001b[39m\n\u001b[32m      1\u001b[39m \u001b[38;5;28;01mfrom\u001b[39;00m\u001b[38;5;250m \u001b[39m\u001b[34;01mgeopandas\u001b[39;00m\u001b[34;01m.\u001b[39;00m\u001b[34;01m_config\u001b[39;00m\u001b[38;5;250m \u001b[39m\u001b[38;5;28;01mimport\u001b[39;00m options\n\u001b[32m----> \u001b[39m\u001b[32m3\u001b[39m \u001b[38;5;28;01mfrom\u001b[39;00m\u001b[38;5;250m \u001b[39m\u001b[34;01mgeopandas\u001b[39;00m\u001b[34;01m.\u001b[39;00m\u001b[34;01mgeoseries\u001b[39;00m\u001b[38;5;250m \u001b[39m\u001b[38;5;28;01mimport\u001b[39;00m GeoSeries\n\u001b[32m      4\u001b[39m \u001b[38;5;28;01mfrom\u001b[39;00m\u001b[38;5;250m \u001b[39m\u001b[34;01mgeopandas\u001b[39;00m\u001b[34;01m.\u001b[39;00m\u001b[34;01mgeodataframe\u001b[39;00m\u001b[38;5;250m \u001b[39m\u001b[38;5;28;01mimport\u001b[39;00m GeoDataFrame\n\u001b[32m      5\u001b[39m \u001b[38;5;28;01mfrom\u001b[39;00m\u001b[38;5;250m \u001b[39m\u001b[34;01mgeopandas\u001b[39;00m\u001b[34;01m.\u001b[39;00m\u001b[34;01marray\u001b[39;00m\u001b[38;5;250m \u001b[39m\u001b[38;5;28;01mimport\u001b[39;00m points_from_xy\n",
      "\u001b[36mFile \u001b[39m\u001b[32mc:\\Users\\Khizer Zakir\\.conda\\envs\\virtucube\\Lib\\site-packages\\geopandas\\geoseries.py:9\u001b[39m\n\u001b[32m      6\u001b[39m \u001b[38;5;28;01mfrom\u001b[39;00m\u001b[38;5;250m \u001b[39m\u001b[34;01mtyping\u001b[39;00m\u001b[38;5;250m \u001b[39m\u001b[38;5;28;01mimport\u001b[39;00m Any, Callable, Dict, Optional\n\u001b[32m      8\u001b[39m \u001b[38;5;28;01mimport\u001b[39;00m\u001b[38;5;250m \u001b[39m\u001b[34;01mnumpy\u001b[39;00m\u001b[38;5;250m \u001b[39m\u001b[38;5;28;01mas\u001b[39;00m\u001b[38;5;250m \u001b[39m\u001b[34;01mnp\u001b[39;00m\n\u001b[32m----> \u001b[39m\u001b[32m9\u001b[39m \u001b[38;5;28;01mimport\u001b[39;00m\u001b[38;5;250m \u001b[39m\u001b[34;01mpandas\u001b[39;00m\u001b[38;5;250m \u001b[39m\u001b[38;5;28;01mas\u001b[39;00m\u001b[38;5;250m \u001b[39m\u001b[34;01mpd\u001b[39;00m\n\u001b[32m     10\u001b[39m \u001b[38;5;28;01mfrom\u001b[39;00m\u001b[38;5;250m \u001b[39m\u001b[34;01mpandas\u001b[39;00m\u001b[38;5;250m \u001b[39m\u001b[38;5;28;01mimport\u001b[39;00m Series\n\u001b[32m     11\u001b[39m \u001b[38;5;28;01mfrom\u001b[39;00m\u001b[38;5;250m \u001b[39m\u001b[34;01mpandas\u001b[39;00m\u001b[34;01m.\u001b[39;00m\u001b[34;01mcore\u001b[39;00m\u001b[34;01m.\u001b[39;00m\u001b[34;01minternals\u001b[39;00m\u001b[38;5;250m \u001b[39m\u001b[38;5;28;01mimport\u001b[39;00m SingleBlockManager\n",
      "\u001b[36mFile \u001b[39m\u001b[32mc:\\Users\\Khizer Zakir\\.conda\\envs\\virtucube\\Lib\\site-packages\\pandas\\__init__.py:49\u001b[39m\n\u001b[32m     46\u001b[39m \u001b[38;5;66;03m# let init-time option registration happen\u001b[39;00m\n\u001b[32m     47\u001b[39m \u001b[38;5;28;01mimport\u001b[39;00m\u001b[38;5;250m \u001b[39m\u001b[34;01mpandas\u001b[39;00m\u001b[34;01m.\u001b[39;00m\u001b[34;01mcore\u001b[39;00m\u001b[34;01m.\u001b[39;00m\u001b[34;01mconfig_init\u001b[39;00m  \u001b[38;5;66;03m# pyright: ignore[reportUnusedImport] # noqa: F401\u001b[39;00m\n\u001b[32m---> \u001b[39m\u001b[32m49\u001b[39m \u001b[38;5;28;01mfrom\u001b[39;00m\u001b[38;5;250m \u001b[39m\u001b[34;01mpandas\u001b[39;00m\u001b[34;01m.\u001b[39;00m\u001b[34;01mcore\u001b[39;00m\u001b[34;01m.\u001b[39;00m\u001b[34;01mapi\u001b[39;00m\u001b[38;5;250m \u001b[39m\u001b[38;5;28;01mimport\u001b[39;00m (\n\u001b[32m     50\u001b[39m     \u001b[38;5;66;03m# dtype\u001b[39;00m\n\u001b[32m     51\u001b[39m     ArrowDtype,\n\u001b[32m     52\u001b[39m     Int8Dtype,\n\u001b[32m     53\u001b[39m     Int16Dtype,\n\u001b[32m     54\u001b[39m     Int32Dtype,\n\u001b[32m     55\u001b[39m     Int64Dtype,\n\u001b[32m     56\u001b[39m     UInt8Dtype,\n\u001b[32m     57\u001b[39m     UInt16Dtype,\n\u001b[32m     58\u001b[39m     UInt32Dtype,\n\u001b[32m     59\u001b[39m     UInt64Dtype,\n\u001b[32m     60\u001b[39m     Float32Dtype,\n\u001b[32m     61\u001b[39m     Float64Dtype,\n\u001b[32m     62\u001b[39m     CategoricalDtype,\n\u001b[32m     63\u001b[39m     PeriodDtype,\n\u001b[32m     64\u001b[39m     IntervalDtype,\n\u001b[32m     65\u001b[39m     DatetimeTZDtype,\n\u001b[32m     66\u001b[39m     StringDtype,\n\u001b[32m     67\u001b[39m     BooleanDtype,\n\u001b[32m     68\u001b[39m     \u001b[38;5;66;03m# missing\u001b[39;00m\n\u001b[32m     69\u001b[39m     NA,\n\u001b[32m     70\u001b[39m     isna,\n\u001b[32m     71\u001b[39m     isnull,\n\u001b[32m     72\u001b[39m     notna,\n\u001b[32m     73\u001b[39m     notnull,\n\u001b[32m     74\u001b[39m     \u001b[38;5;66;03m# indexes\u001b[39;00m\n\u001b[32m     75\u001b[39m     Index,\n\u001b[32m     76\u001b[39m     CategoricalIndex,\n\u001b[32m     77\u001b[39m     RangeIndex,\n\u001b[32m     78\u001b[39m     MultiIndex,\n\u001b[32m     79\u001b[39m     IntervalIndex,\n\u001b[32m     80\u001b[39m     TimedeltaIndex,\n\u001b[32m     81\u001b[39m     DatetimeIndex,\n\u001b[32m     82\u001b[39m     PeriodIndex,\n\u001b[32m     83\u001b[39m     IndexSlice,\n\u001b[32m     84\u001b[39m     \u001b[38;5;66;03m# tseries\u001b[39;00m\n\u001b[32m     85\u001b[39m     NaT,\n\u001b[32m     86\u001b[39m     Period,\n\u001b[32m     87\u001b[39m     period_range,\n\u001b[32m     88\u001b[39m     Timedelta,\n\u001b[32m     89\u001b[39m     timedelta_range,\n\u001b[32m     90\u001b[39m     Timestamp,\n\u001b[32m     91\u001b[39m     date_range,\n\u001b[32m     92\u001b[39m     bdate_range,\n\u001b[32m     93\u001b[39m     Interval,\n\u001b[32m     94\u001b[39m     interval_range,\n\u001b[32m     95\u001b[39m     DateOffset,\n\u001b[32m     96\u001b[39m     \u001b[38;5;66;03m# conversion\u001b[39;00m\n\u001b[32m     97\u001b[39m     to_numeric,\n\u001b[32m     98\u001b[39m     to_datetime,\n\u001b[32m     99\u001b[39m     to_timedelta,\n\u001b[32m    100\u001b[39m     \u001b[38;5;66;03m# misc\u001b[39;00m\n\u001b[32m    101\u001b[39m     Flags,\n\u001b[32m    102\u001b[39m     Grouper,\n\u001b[32m    103\u001b[39m     factorize,\n\u001b[32m    104\u001b[39m     unique,\n\u001b[32m    105\u001b[39m     value_counts,\n\u001b[32m    106\u001b[39m     NamedAgg,\n\u001b[32m    107\u001b[39m     array,\n\u001b[32m    108\u001b[39m     Categorical,\n\u001b[32m    109\u001b[39m     set_eng_float_format,\n\u001b[32m    110\u001b[39m     Series,\n\u001b[32m    111\u001b[39m     DataFrame,\n\u001b[32m    112\u001b[39m )\n\u001b[32m    114\u001b[39m \u001b[38;5;28;01mfrom\u001b[39;00m\u001b[38;5;250m \u001b[39m\u001b[34;01mpandas\u001b[39;00m\u001b[34;01m.\u001b[39;00m\u001b[34;01mcore\u001b[39;00m\u001b[34;01m.\u001b[39;00m\u001b[34;01mdtypes\u001b[39;00m\u001b[34;01m.\u001b[39;00m\u001b[34;01mdtypes\u001b[39;00m\u001b[38;5;250m \u001b[39m\u001b[38;5;28;01mimport\u001b[39;00m SparseDtype\n\u001b[32m    116\u001b[39m \u001b[38;5;28;01mfrom\u001b[39;00m\u001b[38;5;250m \u001b[39m\u001b[34;01mpandas\u001b[39;00m\u001b[34;01m.\u001b[39;00m\u001b[34;01mtseries\u001b[39;00m\u001b[34;01m.\u001b[39;00m\u001b[34;01mapi\u001b[39;00m\u001b[38;5;250m \u001b[39m\u001b[38;5;28;01mimport\u001b[39;00m infer_freq\n",
      "\u001b[36mFile \u001b[39m\u001b[32mc:\\Users\\Khizer Zakir\\.conda\\envs\\virtucube\\Lib\\site-packages\\pandas\\core\\api.py:1\u001b[39m\n\u001b[32m----> \u001b[39m\u001b[32m1\u001b[39m \u001b[38;5;28;01mfrom\u001b[39;00m\u001b[38;5;250m \u001b[39m\u001b[34;01mpandas\u001b[39;00m\u001b[34;01m.\u001b[39;00m\u001b[34;01m_libs\u001b[39;00m\u001b[38;5;250m \u001b[39m\u001b[38;5;28;01mimport\u001b[39;00m (\n\u001b[32m      2\u001b[39m     NaT,\n\u001b[32m      3\u001b[39m     Period,\n\u001b[32m      4\u001b[39m     Timedelta,\n\u001b[32m      5\u001b[39m     Timestamp,\n\u001b[32m      6\u001b[39m )\n\u001b[32m      7\u001b[39m \u001b[38;5;28;01mfrom\u001b[39;00m\u001b[38;5;250m \u001b[39m\u001b[34;01mpandas\u001b[39;00m\u001b[34;01m.\u001b[39;00m\u001b[34;01m_libs\u001b[39;00m\u001b[34;01m.\u001b[39;00m\u001b[34;01mmissing\u001b[39;00m\u001b[38;5;250m \u001b[39m\u001b[38;5;28;01mimport\u001b[39;00m NA\n\u001b[32m      9\u001b[39m \u001b[38;5;28;01mfrom\u001b[39;00m\u001b[38;5;250m \u001b[39m\u001b[34;01mpandas\u001b[39;00m\u001b[34;01m.\u001b[39;00m\u001b[34;01mcore\u001b[39;00m\u001b[34;01m.\u001b[39;00m\u001b[34;01mdtypes\u001b[39;00m\u001b[34;01m.\u001b[39;00m\u001b[34;01mdtypes\u001b[39;00m\u001b[38;5;250m \u001b[39m\u001b[38;5;28;01mimport\u001b[39;00m (\n\u001b[32m     10\u001b[39m     ArrowDtype,\n\u001b[32m     11\u001b[39m     CategoricalDtype,\n\u001b[32m   (...)\u001b[39m\u001b[32m     14\u001b[39m     PeriodDtype,\n\u001b[32m     15\u001b[39m )\n",
      "\u001b[36mFile \u001b[39m\u001b[32mc:\\Users\\Khizer Zakir\\.conda\\envs\\virtucube\\Lib\\site-packages\\pandas\\_libs\\__init__.py:17\u001b[39m\n\u001b[32m     13\u001b[39m \u001b[38;5;66;03m# Below imports needs to happen first to ensure pandas top level\u001b[39;00m\n\u001b[32m     14\u001b[39m \u001b[38;5;66;03m# module gets monkeypatched with the pandas_datetime_CAPI\u001b[39;00m\n\u001b[32m     15\u001b[39m \u001b[38;5;66;03m# see pandas_datetime_exec in pd_datetime.c\u001b[39;00m\n\u001b[32m     16\u001b[39m \u001b[38;5;28;01mimport\u001b[39;00m\u001b[38;5;250m \u001b[39m\u001b[34;01mpandas\u001b[39;00m\u001b[34;01m.\u001b[39;00m\u001b[34;01m_libs\u001b[39;00m\u001b[34;01m.\u001b[39;00m\u001b[34;01mpandas_parser\u001b[39;00m  \u001b[38;5;66;03m# isort: skip # type: ignore[reportUnusedImport]\u001b[39;00m\n\u001b[32m---> \u001b[39m\u001b[32m17\u001b[39m \u001b[38;5;28;01mimport\u001b[39;00m\u001b[38;5;250m \u001b[39m\u001b[34;01mpandas\u001b[39;00m\u001b[34;01m.\u001b[39;00m\u001b[34;01m_libs\u001b[39;00m\u001b[34;01m.\u001b[39;00m\u001b[34;01mpandas_datetime\u001b[39;00m  \u001b[38;5;66;03m# noqa: F401 # isort: skip # type: ignore[reportUnusedImport]\u001b[39;00m\n\u001b[32m     18\u001b[39m \u001b[38;5;28;01mfrom\u001b[39;00m\u001b[38;5;250m \u001b[39m\u001b[34;01mpandas\u001b[39;00m\u001b[34;01m.\u001b[39;00m\u001b[34;01m_libs\u001b[39;00m\u001b[34;01m.\u001b[39;00m\u001b[34;01minterval\u001b[39;00m\u001b[38;5;250m \u001b[39m\u001b[38;5;28;01mimport\u001b[39;00m Interval\n\u001b[32m     19\u001b[39m \u001b[38;5;28;01mfrom\u001b[39;00m\u001b[38;5;250m \u001b[39m\u001b[34;01mpandas\u001b[39;00m\u001b[34;01m.\u001b[39;00m\u001b[34;01m_libs\u001b[39;00m\u001b[34;01m.\u001b[39;00m\u001b[34;01mtslibs\u001b[39;00m\u001b[38;5;250m \u001b[39m\u001b[38;5;28;01mimport\u001b[39;00m (\n\u001b[32m     20\u001b[39m     NaT,\n\u001b[32m     21\u001b[39m     NaTType,\n\u001b[32m   (...)\u001b[39m\u001b[32m     26\u001b[39m     iNaT,\n\u001b[32m     27\u001b[39m )\n",
      "\u001b[31mImportError\u001b[39m: numpy._core.multiarray failed to import"
     ]
    }
   ],
   "source": [
    "# initial imports and reusable functions\n",
    "\n",
    "# import holoviews as hv\n",
    "# hv.extension('bokeh')\n",
    "\n",
    "from copy import deepcopy\n",
    "import geopandas as gpd\n",
    "import hvplot.pandas\n",
    "import pandas as pd\n",
    "import pystac\n",
    "from shapely.geometry import shape\n",
    "import os\n",
    "os.environ['AWS_REQUEST_PAYER'] = 'requester'"
   ]
  },
  {
   "cell_type": "code",
   "execution_count": null,
   "id": "ac9e6132-9bc6-4a97-a00d-b2f40159251d",
   "metadata": {},
   "outputs": [],
   "source": [
    "# create a function for later reuse\n",
    "def plot_polygons(data, *args, **kwargs):\n",
    "    return data.hvplot.paths(*args, geo=True, tiles='OSM', xaxis=None, yaxis=None,\n",
    "                             frame_width=600, frame_height=600,\n",
    "                             line_width=3, **kwargs)\n",
    "\n",
    "# convert a list of STAC Items into a GeoDataFrame\n",
    "def items_to_geodataframe(items):\n",
    "    _items = []\n",
    "    for i in items:\n",
    "        _i = deepcopy(i)\n",
    "        _i['geometry'] = shape(_i['geometry'])\n",
    "        _items.append(_i)\n",
    "    gdf = gpd.GeoDataFrame(pd.json_normalize(_items))\n",
    "    for field in ['properties.datetime', 'properties.created', 'properties.updated']:\n",
    "        if field in gdf:\n",
    "            gdf[field] = pd.to_datetime(gdf[field])\n",
    "    gdf.set_index('properties.datetime', inplace=True)\n",
    "    return gdf\n",
    "\n",
    "# set pystac_client logger to DEBUG to see API calls\n",
    "import logging\n",
    "logging.basicConfig()\n",
    "logger = logging.getLogger('pystac_client')\n",
    "logger.setLevel(logging.INFO)"
   ]
  },
  {
   "cell_type": "markdown",
   "id": "0f100b1b",
   "metadata": {},
   "source": [
    "# Search for data\n",
    "\n",
    "Use pystac-client to find data in the Landsat STAC API. First, print up a table of all the STAC Collections in the API."
   ]
  },
  {
   "cell_type": "code",
   "execution_count": null,
   "id": "d64615c6",
   "metadata": {},
   "outputs": [
    {
     "name": "stdout",
     "output_type": "stream",
     "text": [
      "<Client id=stac-server>\n"
     ]
    },
    {
     "data": {
      "text/html": [
       "<div>\n",
       "<style scoped>\n",
       "    .dataframe tbody tr th:only-of-type {\n",
       "        vertical-align: middle;\n",
       "    }\n",
       "\n",
       "    .dataframe tbody tr th {\n",
       "        vertical-align: top;\n",
       "    }\n",
       "\n",
       "    .dataframe thead th {\n",
       "        text-align: right;\n",
       "    }\n",
       "</style>\n",
       "<table border=\"1\" class=\"dataframe\">\n",
       "  <thead>\n",
       "    <tr style=\"text-align: right;\">\n",
       "      <th></th>\n",
       "      <th>id</th>\n",
       "      <th>title</th>\n",
       "    </tr>\n",
       "  </thead>\n",
       "  <tbody>\n",
       "    <tr>\n",
       "      <th>0</th>\n",
       "      <td>landsat-c2l2-sr</td>\n",
       "      <td>Landsat Collection 2 Level-2 UTM Surface Reflectance (SR) Product</td>\n",
       "    </tr>\n",
       "    <tr>\n",
       "      <th>1</th>\n",
       "      <td>landsat-c2l2-st</td>\n",
       "      <td>Landsat Collection 2 Level-2 UTM Surface Temperature (ST) Product</td>\n",
       "    </tr>\n",
       "    <tr>\n",
       "      <th>2</th>\n",
       "      <td>landsat-c2ard-st</td>\n",
       "      <td>Landsat Collection 2 Analysis Ready Data (ARD) Level-2 UTM Surface Temperature (ST) Product</td>\n",
       "    </tr>\n",
       "    <tr>\n",
       "      <th>3</th>\n",
       "      <td>landsat-c2l2alb-bt</td>\n",
       "      <td>Landsat Collection 2 Level-2 Albers Top of Atmosphere Brightness Temperature (BT) Product</td>\n",
       "    </tr>\n",
       "    <tr>\n",
       "      <th>4</th>\n",
       "      <td>landsat-c2l3-fsca</td>\n",
       "      <td>Landsat Collection 2 Level-3 Fractional Snow Covered Area (fSCA) Product</td>\n",
       "    </tr>\n",
       "    <tr>\n",
       "      <th>5</th>\n",
       "      <td>landsat-c2ard-bt</td>\n",
       "      <td>Landsat Collection 2 Analysis Ready Data (ARD) Level-2 UTM Top of Atmosphere Brightness Temperature (BT) Product</td>\n",
       "    </tr>\n",
       "    <tr>\n",
       "      <th>6</th>\n",
       "      <td>landsat-c2l1</td>\n",
       "      <td>Landsat Collection 2 Level-1 Product</td>\n",
       "    </tr>\n",
       "    <tr>\n",
       "      <th>7</th>\n",
       "      <td>landsat-c2l3-ba</td>\n",
       "      <td>Landsat Collection 2 Level-3 Burned Area (BA) Product</td>\n",
       "    </tr>\n",
       "    <tr>\n",
       "      <th>8</th>\n",
       "      <td>landsat-c2l2alb-st</td>\n",
       "      <td>Landsat Collection 2 Level-2 Albers Surface Temperature (ST) Product</td>\n",
       "    </tr>\n",
       "    <tr>\n",
       "      <th>9</th>\n",
       "      <td>landsat-c2ard-sr</td>\n",
       "      <td>Landsat Collection 2 Analysis Ready Data (ARD) Level-2 UTM Surface Reflectance (SR) Product</td>\n",
       "    </tr>\n",
       "    <tr>\n",
       "      <th>10</th>\n",
       "      <td>landsat-c2l2alb-sr</td>\n",
       "      <td>Landsat Collection 2 Level-2 Albers Surface Reflectance (SR) Product</td>\n",
       "    </tr>\n",
       "    <tr>\n",
       "      <th>11</th>\n",
       "      <td>landsat-c2l2alb-ta</td>\n",
       "      <td>Landsat Collection 2 Level-2 Albers Top of Atmosphere (TA) Reflectance Product</td>\n",
       "    </tr>\n",
       "    <tr>\n",
       "      <th>12</th>\n",
       "      <td>landsat-c2l3-dswe</td>\n",
       "      <td>Landsat Collection 2 Level-3 Dynamic Surface Water Extent (DSWE) Product</td>\n",
       "    </tr>\n",
       "    <tr>\n",
       "      <th>13</th>\n",
       "      <td>landsat-c2ard-ta</td>\n",
       "      <td>Landsat Collection 2 Analysis Ready Data (ARD) Level-2 UTM Top of Atmosphere (TA) Reflectance Product</td>\n",
       "    </tr>\n",
       "  </tbody>\n",
       "</table>\n",
       "</div>"
      ],
      "text/plain": [
       "                    id  \\\n",
       "0      landsat-c2l2-sr   \n",
       "1      landsat-c2l2-st   \n",
       "2     landsat-c2ard-st   \n",
       "3   landsat-c2l2alb-bt   \n",
       "4    landsat-c2l3-fsca   \n",
       "5     landsat-c2ard-bt   \n",
       "6         landsat-c2l1   \n",
       "7      landsat-c2l3-ba   \n",
       "8   landsat-c2l2alb-st   \n",
       "9     landsat-c2ard-sr   \n",
       "10  landsat-c2l2alb-sr   \n",
       "11  landsat-c2l2alb-ta   \n",
       "12   landsat-c2l3-dswe   \n",
       "13    landsat-c2ard-ta   \n",
       "\n",
       "                                                                                                               title  \n",
       "0                                                  Landsat Collection 2 Level-2 UTM Surface Reflectance (SR) Product  \n",
       "1                                                  Landsat Collection 2 Level-2 UTM Surface Temperature (ST) Product  \n",
       "2                        Landsat Collection 2 Analysis Ready Data (ARD) Level-2 UTM Surface Temperature (ST) Product  \n",
       "3                          Landsat Collection 2 Level-2 Albers Top of Atmosphere Brightness Temperature (BT) Product  \n",
       "4                                           Landsat Collection 2 Level-3 Fractional Snow Covered Area (fSCA) Product  \n",
       "5   Landsat Collection 2 Analysis Ready Data (ARD) Level-2 UTM Top of Atmosphere Brightness Temperature (BT) Product  \n",
       "6                                                                               Landsat Collection 2 Level-1 Product  \n",
       "7                                                              Landsat Collection 2 Level-3 Burned Area (BA) Product  \n",
       "8                                               Landsat Collection 2 Level-2 Albers Surface Temperature (ST) Product  \n",
       "9                        Landsat Collection 2 Analysis Ready Data (ARD) Level-2 UTM Surface Reflectance (SR) Product  \n",
       "10                                              Landsat Collection 2 Level-2 Albers Surface Reflectance (SR) Product  \n",
       "11                                    Landsat Collection 2 Level-2 Albers Top of Atmosphere (TA) Reflectance Product  \n",
       "12                                          Landsat Collection 2 Level-3 Dynamic Surface Water Extent (DSWE) Product  \n",
       "13             Landsat Collection 2 Analysis Ready Data (ARD) Level-2 UTM Top of Atmosphere (TA) Reflectance Product  "
      ]
     },
     "execution_count": 4,
     "metadata": {},
     "output_type": "execute_result"
    }
   ],
   "source": [
    "# Open the Landsat STAC API\n",
    "\n",
    "from pystac_client import Client\n",
    "URL = 'https://landsatlook.usgs.gov/stac-server'\n",
    "cat = Client.open(URL)\n",
    "print(cat)\n",
    "\n",
    "collections = [(c.id, c.title) for c in cat.get_collections()]\n",
    "pd.set_option(\"display.max_colwidth\", 150)\n",
    "df = pd.DataFrame(collections, columns=['id', 'title'])\n",
    "df"
   ]
  },
  {
   "cell_type": "markdown",
   "id": "e7b0b19a",
   "metadata": {},
   "source": [
    "Fetch the collection of interest: Landsat Collection 2, Level 2 Surface Reflectance (landsat-c2l2-sr) and print the assets that are available."
   ]
  },
  {
   "cell_type": "code",
   "execution_count": null,
   "id": "21053106",
   "metadata": {},
   "outputs": [
    {
     "data": {
      "text/html": [
       "<div>\n",
       "<style scoped>\n",
       "    .dataframe tbody tr th:only-of-type {\n",
       "        vertical-align: middle;\n",
       "    }\n",
       "\n",
       "    .dataframe tbody tr th {\n",
       "        vertical-align: top;\n",
       "    }\n",
       "\n",
       "    .dataframe thead th {\n",
       "        text-align: right;\n",
       "    }\n",
       "</style>\n",
       "<table border=\"1\" class=\"dataframe\">\n",
       "  <thead>\n",
       "    <tr style=\"text-align: right;\">\n",
       "      <th></th>\n",
       "    </tr>\n",
       "  </thead>\n",
       "  <tbody>\n",
       "  </tbody>\n",
       "</table>\n",
       "</div>"
      ],
      "text/plain": [
       "Empty DataFrame\n",
       "Columns: []\n",
       "Index: []"
      ]
     },
     "execution_count": 5,
     "metadata": {},
     "output_type": "execute_result"
    }
   ],
   "source": [
    "collection_id = 'landsat-c2l2-sr'\n",
    "\n",
    "collection = cat.get_collection(collection_id)\n",
    "pd.DataFrame.from_dict(collection.to_dict()['item_assets'], orient='index')"
   ]
  },
  {
   "cell_type": "markdown",
   "id": "972e0654",
   "metadata": {},
   "source": [
    "Change the AOI, search parameters here, and print how many matching scenes there are."
   ]
  },
  {
   "cell_type": "code",
   "execution_count": null,
   "id": "42062ad1",
   "metadata": {},
   "outputs": [
    {
     "name": "stdout",
     "output_type": "stream",
     "text": [
      "5 items found\n"
     ]
    }
   ],
   "source": [
    "import geopandas as gpd\n",
    "import json\n",
    "\n",
    "aoi = gpd.read_file('malawi.geojson')\n",
    "geom = json.loads(aoi['geometry'].to_json())['features'][0]['geometry']\n",
    "\n",
    "# limit sets the # of items per page so we can see multiple pages getting fetched\n",
    "search = cat.search(\n",
    "    collections = [collection_id],\n",
    "    intersects = aoi['geometry'][0],\n",
    "    datetime = \"2021-01-01/2021-03-31\",\n",
    "    query = [\"eo:cloud_cover<10\"],\n",
    "    limit = 100\n",
    ")\n",
    "\n",
    "print(f\"{search.matched()} items found\")"
   ]
  },
  {
   "cell_type": "markdown",
   "id": "734177ef",
   "metadata": {},
   "source": [
    "# Use GeoPandas to view footprints"
   ]
  },
  {
   "cell_type": "markdown",
   "id": "946997a9",
   "metadata": {},
   "source": [
    "The cell below fetches all the STAC Items and updates the URLs to use the provided s3 URLs which can be used for direct access rather than the default https URLs. This is because the alternate extension is not yet supported in PySTAC, when it is there will be an easier way to specify which alternate URL, if any, to use for the assets.\n",
    "\n",
    "Then, we create a GeoDataFrame for visualizing the footprints."
   ]
  },
  {
   "cell_type": "code",
   "execution_count": null,
   "id": "9fa5182f",
   "metadata": {},
   "outputs": [
    {
     "name": "stderr",
     "output_type": "stream",
     "text": [
      "c:\\Users\\Khizer Zakir\\.conda\\envs\\virtucube\\Lib\\site-packages\\pystac_client\\item_search.py:911: FutureWarning: get_all_items_as_dict() is deprecated, use item_collection_as_dict() instead.\n",
      "  warnings.warn(\n"
     ]
    },
    {
     "name": "stdout",
     "output_type": "stream",
     "text": [
      "5 items found\n"
     ]
    },
    {
     "data": {
      "text/html": [
       "<div>\n",
       "<style scoped>\n",
       "    .dataframe tbody tr th:only-of-type {\n",
       "        vertical-align: middle;\n",
       "    }\n",
       "\n",
       "    .dataframe tbody tr th {\n",
       "        vertical-align: top;\n",
       "    }\n",
       "\n",
       "    .dataframe thead th {\n",
       "        text-align: right;\n",
       "    }\n",
       "</style>\n",
       "<table border=\"1\" class=\"dataframe\">\n",
       "  <thead>\n",
       "    <tr style=\"text-align: right;\">\n",
       "      <th></th>\n",
       "      <th>type</th>\n",
       "      <th>stac_version</th>\n",
       "      <th>stac_extensions</th>\n",
       "      <th>id</th>\n",
       "      <th>description</th>\n",
       "      <th>bbox</th>\n",
       "      <th>geometry</th>\n",
       "      <th>links</th>\n",
       "      <th>collection</th>\n",
       "      <th>properties.eo:cloud_cover</th>\n",
       "      <th>...</th>\n",
       "      <th>assets.qa_aerosol.title</th>\n",
       "      <th>assets.qa_aerosol.description</th>\n",
       "      <th>assets.qa_aerosol.type</th>\n",
       "      <th>assets.qa_aerosol.roles</th>\n",
       "      <th>assets.qa_aerosol.classification:bitfields</th>\n",
       "      <th>assets.qa_aerosol.href</th>\n",
       "      <th>assets.qa_aerosol.alternate.s3.storage:platform</th>\n",
       "      <th>assets.qa_aerosol.alternate.s3.storage:requester_pays</th>\n",
       "      <th>assets.qa_aerosol.alternate.s3.href</th>\n",
       "      <th>assets.qa_aerosol.file:checksum</th>\n",
       "    </tr>\n",
       "    <tr>\n",
       "      <th>properties.datetime</th>\n",
       "      <th></th>\n",
       "      <th></th>\n",
       "      <th></th>\n",
       "      <th></th>\n",
       "      <th></th>\n",
       "      <th></th>\n",
       "      <th></th>\n",
       "      <th></th>\n",
       "      <th></th>\n",
       "      <th></th>\n",
       "      <th></th>\n",
       "      <th></th>\n",
       "      <th></th>\n",
       "      <th></th>\n",
       "      <th></th>\n",
       "      <th></th>\n",
       "      <th></th>\n",
       "      <th></th>\n",
       "      <th></th>\n",
       "      <th></th>\n",
       "      <th></th>\n",
       "    </tr>\n",
       "  </thead>\n",
       "  <tbody>\n",
       "    <tr>\n",
       "      <th>2021-03-27 06:53:04.348512+00:00</th>\n",
       "      <td>Feature</td>\n",
       "      <td>1.0.0</td>\n",
       "      <td>[https://landsat.usgs.gov/stac/landsat-extensi...</td>\n",
       "      <td>LE07_L2SP_167071_20210327_20210422_02_T1_SR</td>\n",
       "      <td>Landsat Collection 2 Level-2 Surface Reflectan...</td>\n",
       "      <td>[34.44991343201458, -16.83821593812492, 36.617...</td>\n",
       "      <td>POLYGON ((34.81393 -14.96579, 34.44991 -16.576...</td>\n",
       "      <td>[{'rel': 'self', 'href': 'https://landsatlook....</td>\n",
       "      <td>landsat-c2l2-sr</td>\n",
       "      <td>5.00</td>\n",
       "      <td>...</td>\n",
       "      <td>NaN</td>\n",
       "      <td>NaN</td>\n",
       "      <td>NaN</td>\n",
       "      <td>NaN</td>\n",
       "      <td>NaN</td>\n",
       "      <td>NaN</td>\n",
       "      <td>NaN</td>\n",
       "      <td>NaN</td>\n",
       "      <td>NaN</td>\n",
       "      <td>NaN</td>\n",
       "    </tr>\n",
       "    <tr>\n",
       "      <th>2021-03-26 07:46:58.363578+00:00</th>\n",
       "      <td>Feature</td>\n",
       "      <td>1.0.0</td>\n",
       "      <td>[https://landsat.usgs.gov/stac/landsat-extensi...</td>\n",
       "      <td>LC08_L2SP_168071_20210326_20210402_02_T1_SR</td>\n",
       "      <td>Landsat Collection 2 Level-2 Surface Reflectan...</td>\n",
       "      <td>[32.92416142339678, -16.94629631879435, 35.016...</td>\n",
       "      <td>POLYGON ((33.31912 -14.85778, 32.92416 -16.586...</td>\n",
       "      <td>[{'rel': 'self', 'href': 'https://landsatlook....</td>\n",
       "      <td>landsat-c2l2-sr</td>\n",
       "      <td>1.37</td>\n",
       "      <td>...</td>\n",
       "      <td>Aerosol Quality Analysis Band</td>\n",
       "      <td>Collection 2 Level-2 Aerosol Quality Analysis ...</td>\n",
       "      <td>image/vnd.stac.geotiff; cloud-optimized=true</td>\n",
       "      <td>[metadata, data-mask, water-mask]</td>\n",
       "      <td>[{'name': 'fill', 'description': 'Correspondin...</td>\n",
       "      <td>s3://usgs-landsat/collection02/level-2/standar...</td>\n",
       "      <td>AWS</td>\n",
       "      <td>True</td>\n",
       "      <td>s3://usgs-landsat/collection02/level-2/standar...</td>\n",
       "      <td>1340d449c994635d4fac33e619d168f731898600360ea1...</td>\n",
       "    </tr>\n",
       "    <tr>\n",
       "      <th>2021-01-28 07:53:05.529852+00:00</th>\n",
       "      <td>Feature</td>\n",
       "      <td>1.0.0</td>\n",
       "      <td>[https://landsat.usgs.gov/stac/landsat-extensi...</td>\n",
       "      <td>LC08_L2SP_169070_20210128_20210305_02_T1_SR</td>\n",
       "      <td>Landsat Collection 2 Level-2 Surface Reflectan...</td>\n",
       "      <td>[31.711090518856604, -15.502202043278283, 33.7...</td>\n",
       "      <td>POLYGON ((33.40973 -15.5022, 33.78616 -13.7680...</td>\n",
       "      <td>[{'rel': 'self', 'href': 'https://landsatlook....</td>\n",
       "      <td>landsat-c2l2-sr</td>\n",
       "      <td>6.59</td>\n",
       "      <td>...</td>\n",
       "      <td>Aerosol Quality Analysis Band</td>\n",
       "      <td>Collection 2 Level-2 Aerosol Quality Analysis ...</td>\n",
       "      <td>image/vnd.stac.geotiff; cloud-optimized=true</td>\n",
       "      <td>[metadata, data-mask, water-mask]</td>\n",
       "      <td>[{'name': 'fill', 'description': 'Correspondin...</td>\n",
       "      <td>s3://usgs-landsat/collection02/level-2/standar...</td>\n",
       "      <td>AWS</td>\n",
       "      <td>True</td>\n",
       "      <td>s3://usgs-landsat/collection02/level-2/standar...</td>\n",
       "      <td>13407ac8f384d8dcdf379ec7e812b7548ca6775a4c93df...</td>\n",
       "    </tr>\n",
       "    <tr>\n",
       "      <th>2021-01-06 06:59:30.874396+00:00</th>\n",
       "      <td>Feature</td>\n",
       "      <td>1.0.0</td>\n",
       "      <td>[https://landsat.usgs.gov/stac/landsat-extensi...</td>\n",
       "      <td>LE07_L2SP_167072_20210106_20210201_02_T1_SR</td>\n",
       "      <td>Landsat Collection 2 Level-2 Surface Reflectan...</td>\n",
       "      <td>[34.128584545965374, -18.284720058135903, 36.3...</td>\n",
       "      <td>POLYGON ((34.4956 -16.41165, 34.12858 -18.0166...</td>\n",
       "      <td>[{'rel': 'self', 'href': 'https://landsatlook....</td>\n",
       "      <td>landsat-c2l2-sr</td>\n",
       "      <td>0.00</td>\n",
       "      <td>...</td>\n",
       "      <td>NaN</td>\n",
       "      <td>NaN</td>\n",
       "      <td>NaN</td>\n",
       "      <td>NaN</td>\n",
       "      <td>NaN</td>\n",
       "      <td>NaN</td>\n",
       "      <td>NaN</td>\n",
       "      <td>NaN</td>\n",
       "      <td>NaN</td>\n",
       "      <td>NaN</td>\n",
       "    </tr>\n",
       "    <tr>\n",
       "      <th>2021-01-06 06:59:06.938212+00:00</th>\n",
       "      <td>Feature</td>\n",
       "      <td>1.0.0</td>\n",
       "      <td>[https://landsat.usgs.gov/stac/landsat-extensi...</td>\n",
       "      <td>LE07_L2SP_167071_20210106_20210201_02_T1_SR</td>\n",
       "      <td>Landsat Collection 2 Level-2 Surface Reflectan...</td>\n",
       "      <td>[34.45806605660863, -16.838379235727494, 36.62...</td>\n",
       "      <td>POLYGON ((34.82285 -14.96626, 34.45807 -16.576...</td>\n",
       "      <td>[{'rel': 'self', 'href': 'https://landsatlook....</td>\n",
       "      <td>landsat-c2l2-sr</td>\n",
       "      <td>8.00</td>\n",
       "      <td>...</td>\n",
       "      <td>NaN</td>\n",
       "      <td>NaN</td>\n",
       "      <td>NaN</td>\n",
       "      <td>NaN</td>\n",
       "      <td>NaN</td>\n",
       "      <td>NaN</td>\n",
       "      <td>NaN</td>\n",
       "      <td>NaN</td>\n",
       "      <td>NaN</td>\n",
       "      <td>NaN</td>\n",
       "    </tr>\n",
       "  </tbody>\n",
       "</table>\n",
       "<p>5 rows × 210 columns</p>\n",
       "</div>"
      ],
      "text/plain": [
       "                                     type stac_version  \\\n",
       "properties.datetime                                      \n",
       "2021-03-27 06:53:04.348512+00:00  Feature        1.0.0   \n",
       "2021-03-26 07:46:58.363578+00:00  Feature        1.0.0   \n",
       "2021-01-28 07:53:05.529852+00:00  Feature        1.0.0   \n",
       "2021-01-06 06:59:30.874396+00:00  Feature        1.0.0   \n",
       "2021-01-06 06:59:06.938212+00:00  Feature        1.0.0   \n",
       "\n",
       "                                                                    stac_extensions  \\\n",
       "properties.datetime                                                                   \n",
       "2021-03-27 06:53:04.348512+00:00  [https://landsat.usgs.gov/stac/landsat-extensi...   \n",
       "2021-03-26 07:46:58.363578+00:00  [https://landsat.usgs.gov/stac/landsat-extensi...   \n",
       "2021-01-28 07:53:05.529852+00:00  [https://landsat.usgs.gov/stac/landsat-extensi...   \n",
       "2021-01-06 06:59:30.874396+00:00  [https://landsat.usgs.gov/stac/landsat-extensi...   \n",
       "2021-01-06 06:59:06.938212+00:00  [https://landsat.usgs.gov/stac/landsat-extensi...   \n",
       "\n",
       "                                                                           id  \\\n",
       "properties.datetime                                                             \n",
       "2021-03-27 06:53:04.348512+00:00  LE07_L2SP_167071_20210327_20210422_02_T1_SR   \n",
       "2021-03-26 07:46:58.363578+00:00  LC08_L2SP_168071_20210326_20210402_02_T1_SR   \n",
       "2021-01-28 07:53:05.529852+00:00  LC08_L2SP_169070_20210128_20210305_02_T1_SR   \n",
       "2021-01-06 06:59:30.874396+00:00  LE07_L2SP_167072_20210106_20210201_02_T1_SR   \n",
       "2021-01-06 06:59:06.938212+00:00  LE07_L2SP_167071_20210106_20210201_02_T1_SR   \n",
       "\n",
       "                                                                        description  \\\n",
       "properties.datetime                                                                   \n",
       "2021-03-27 06:53:04.348512+00:00  Landsat Collection 2 Level-2 Surface Reflectan...   \n",
       "2021-03-26 07:46:58.363578+00:00  Landsat Collection 2 Level-2 Surface Reflectan...   \n",
       "2021-01-28 07:53:05.529852+00:00  Landsat Collection 2 Level-2 Surface Reflectan...   \n",
       "2021-01-06 06:59:30.874396+00:00  Landsat Collection 2 Level-2 Surface Reflectan...   \n",
       "2021-01-06 06:59:06.938212+00:00  Landsat Collection 2 Level-2 Surface Reflectan...   \n",
       "\n",
       "                                                                               bbox  \\\n",
       "properties.datetime                                                                   \n",
       "2021-03-27 06:53:04.348512+00:00  [34.44991343201458, -16.83821593812492, 36.617...   \n",
       "2021-03-26 07:46:58.363578+00:00  [32.92416142339678, -16.94629631879435, 35.016...   \n",
       "2021-01-28 07:53:05.529852+00:00  [31.711090518856604, -15.502202043278283, 33.7...   \n",
       "2021-01-06 06:59:30.874396+00:00  [34.128584545965374, -18.284720058135903, 36.3...   \n",
       "2021-01-06 06:59:06.938212+00:00  [34.45806605660863, -16.838379235727494, 36.62...   \n",
       "\n",
       "                                                                           geometry  \\\n",
       "properties.datetime                                                                   \n",
       "2021-03-27 06:53:04.348512+00:00  POLYGON ((34.81393 -14.96579, 34.44991 -16.576...   \n",
       "2021-03-26 07:46:58.363578+00:00  POLYGON ((33.31912 -14.85778, 32.92416 -16.586...   \n",
       "2021-01-28 07:53:05.529852+00:00  POLYGON ((33.40973 -15.5022, 33.78616 -13.7680...   \n",
       "2021-01-06 06:59:30.874396+00:00  POLYGON ((34.4956 -16.41165, 34.12858 -18.0166...   \n",
       "2021-01-06 06:59:06.938212+00:00  POLYGON ((34.82285 -14.96626, 34.45807 -16.576...   \n",
       "\n",
       "                                                                              links  \\\n",
       "properties.datetime                                                                   \n",
       "2021-03-27 06:53:04.348512+00:00  [{'rel': 'self', 'href': 'https://landsatlook....   \n",
       "2021-03-26 07:46:58.363578+00:00  [{'rel': 'self', 'href': 'https://landsatlook....   \n",
       "2021-01-28 07:53:05.529852+00:00  [{'rel': 'self', 'href': 'https://landsatlook....   \n",
       "2021-01-06 06:59:30.874396+00:00  [{'rel': 'self', 'href': 'https://landsatlook....   \n",
       "2021-01-06 06:59:06.938212+00:00  [{'rel': 'self', 'href': 'https://landsatlook....   \n",
       "\n",
       "                                       collection  properties.eo:cloud_cover  \\\n",
       "properties.datetime                                                            \n",
       "2021-03-27 06:53:04.348512+00:00  landsat-c2l2-sr                       5.00   \n",
       "2021-03-26 07:46:58.363578+00:00  landsat-c2l2-sr                       1.37   \n",
       "2021-01-28 07:53:05.529852+00:00  landsat-c2l2-sr                       6.59   \n",
       "2021-01-06 06:59:30.874396+00:00  landsat-c2l2-sr                       0.00   \n",
       "2021-01-06 06:59:06.938212+00:00  landsat-c2l2-sr                       8.00   \n",
       "\n",
       "                                  ...        assets.qa_aerosol.title  \\\n",
       "properties.datetime               ...                                  \n",
       "2021-03-27 06:53:04.348512+00:00  ...                            NaN   \n",
       "2021-03-26 07:46:58.363578+00:00  ...  Aerosol Quality Analysis Band   \n",
       "2021-01-28 07:53:05.529852+00:00  ...  Aerosol Quality Analysis Band   \n",
       "2021-01-06 06:59:30.874396+00:00  ...                            NaN   \n",
       "2021-01-06 06:59:06.938212+00:00  ...                            NaN   \n",
       "\n",
       "                                                      assets.qa_aerosol.description  \\\n",
       "properties.datetime                                                                   \n",
       "2021-03-27 06:53:04.348512+00:00                                                NaN   \n",
       "2021-03-26 07:46:58.363578+00:00  Collection 2 Level-2 Aerosol Quality Analysis ...   \n",
       "2021-01-28 07:53:05.529852+00:00  Collection 2 Level-2 Aerosol Quality Analysis ...   \n",
       "2021-01-06 06:59:30.874396+00:00                                                NaN   \n",
       "2021-01-06 06:59:06.938212+00:00                                                NaN   \n",
       "\n",
       "                                                        assets.qa_aerosol.type  \\\n",
       "properties.datetime                                                              \n",
       "2021-03-27 06:53:04.348512+00:00                                           NaN   \n",
       "2021-03-26 07:46:58.363578+00:00  image/vnd.stac.geotiff; cloud-optimized=true   \n",
       "2021-01-28 07:53:05.529852+00:00  image/vnd.stac.geotiff; cloud-optimized=true   \n",
       "2021-01-06 06:59:30.874396+00:00                                           NaN   \n",
       "2021-01-06 06:59:06.938212+00:00                                           NaN   \n",
       "\n",
       "                                            assets.qa_aerosol.roles  \\\n",
       "properties.datetime                                                   \n",
       "2021-03-27 06:53:04.348512+00:00                                NaN   \n",
       "2021-03-26 07:46:58.363578+00:00  [metadata, data-mask, water-mask]   \n",
       "2021-01-28 07:53:05.529852+00:00  [metadata, data-mask, water-mask]   \n",
       "2021-01-06 06:59:30.874396+00:00                                NaN   \n",
       "2021-01-06 06:59:06.938212+00:00                                NaN   \n",
       "\n",
       "                                         assets.qa_aerosol.classification:bitfields  \\\n",
       "properties.datetime                                                                   \n",
       "2021-03-27 06:53:04.348512+00:00                                                NaN   \n",
       "2021-03-26 07:46:58.363578+00:00  [{'name': 'fill', 'description': 'Correspondin...   \n",
       "2021-01-28 07:53:05.529852+00:00  [{'name': 'fill', 'description': 'Correspondin...   \n",
       "2021-01-06 06:59:30.874396+00:00                                                NaN   \n",
       "2021-01-06 06:59:06.938212+00:00                                                NaN   \n",
       "\n",
       "                                                             assets.qa_aerosol.href  \\\n",
       "properties.datetime                                                                   \n",
       "2021-03-27 06:53:04.348512+00:00                                                NaN   \n",
       "2021-03-26 07:46:58.363578+00:00  s3://usgs-landsat/collection02/level-2/standar...   \n",
       "2021-01-28 07:53:05.529852+00:00  s3://usgs-landsat/collection02/level-2/standar...   \n",
       "2021-01-06 06:59:30.874396+00:00                                                NaN   \n",
       "2021-01-06 06:59:06.938212+00:00                                                NaN   \n",
       "\n",
       "                                 assets.qa_aerosol.alternate.s3.storage:platform  \\\n",
       "properties.datetime                                                                \n",
       "2021-03-27 06:53:04.348512+00:00                                             NaN   \n",
       "2021-03-26 07:46:58.363578+00:00                                             AWS   \n",
       "2021-01-28 07:53:05.529852+00:00                                             AWS   \n",
       "2021-01-06 06:59:30.874396+00:00                                             NaN   \n",
       "2021-01-06 06:59:06.938212+00:00                                             NaN   \n",
       "\n",
       "                                 assets.qa_aerosol.alternate.s3.storage:requester_pays  \\\n",
       "properties.datetime                                                                      \n",
       "2021-03-27 06:53:04.348512+00:00                                                NaN      \n",
       "2021-03-26 07:46:58.363578+00:00                                               True      \n",
       "2021-01-28 07:53:05.529852+00:00                                               True      \n",
       "2021-01-06 06:59:30.874396+00:00                                                NaN      \n",
       "2021-01-06 06:59:06.938212+00:00                                                NaN      \n",
       "\n",
       "                                                assets.qa_aerosol.alternate.s3.href  \\\n",
       "properties.datetime                                                                   \n",
       "2021-03-27 06:53:04.348512+00:00                                                NaN   \n",
       "2021-03-26 07:46:58.363578+00:00  s3://usgs-landsat/collection02/level-2/standar...   \n",
       "2021-01-28 07:53:05.529852+00:00  s3://usgs-landsat/collection02/level-2/standar...   \n",
       "2021-01-06 06:59:30.874396+00:00                                                NaN   \n",
       "2021-01-06 06:59:06.938212+00:00                                                NaN   \n",
       "\n",
       "                                                    assets.qa_aerosol.file:checksum  \n",
       "properties.datetime                                                                  \n",
       "2021-03-27 06:53:04.348512+00:00                                                NaN  \n",
       "2021-03-26 07:46:58.363578+00:00  1340d449c994635d4fac33e619d168f731898600360ea1...  \n",
       "2021-01-28 07:53:05.529852+00:00  13407ac8f384d8dcdf379ec7e812b7548ca6775a4c93df...  \n",
       "2021-01-06 06:59:30.874396+00:00                                                NaN  \n",
       "2021-01-06 06:59:06.938212+00:00                                                NaN  \n",
       "\n",
       "[5 rows x 210 columns]"
      ]
     },
     "execution_count": 7,
     "metadata": {},
     "output_type": "execute_result"
    }
   ],
   "source": [
    "# Get all items as a dictionary\n",
    "items_dict = search.get_all_items_as_dict()['features']\n",
    "\n",
    "# update URLs to use s3\n",
    "for item in items_dict:\n",
    "    for a in item['assets']:\n",
    "        if 'alternate' in item['assets'][a] and 's3' in item['assets'][a]['alternate']:\n",
    "            item['assets'][a]['href'] = item['assets'][a]['alternate']['s3']['href']\n",
    "        item['assets'][a]['href'] = item['assets'][a]['href'].replace('usgs-landsat-ard', 'usgs-landsat')\n",
    "\n",
    "# Create GeoDataFrame from Items\n",
    "items_gdf = items_to_geodataframe(items_dict)\n",
    "\n",
    "print(f\"{len(items_dict)} items found\")\n",
    "\n",
    "pd.reset_option(\"display.max_colwidth\")\n",
    "items_gdf.head()"
   ]
  },
  {
   "cell_type": "code",
   "execution_count": null,
   "id": "e37d05f1",
   "metadata": {},
   "outputs": [
    {
     "data": {},
     "metadata": {},
     "output_type": "display_data"
    },
    {
     "data": {
      "application/vnd.holoviews_exec.v0+json": "",
      "text/html": [
       "<div id='67e81032-336f-4965-bbda-f82dec76e386'>\n",
       "  <div id=\"c6370d21-8a03-43c3-8890-71e64ace3e06\" data-root-id=\"67e81032-336f-4965-bbda-f82dec76e386\" style=\"display: contents;\"></div>\n",
       "</div>\n",
       "<script type=\"application/javascript\">(function(root) {\n",
       "  var docs_json = {\"44895c12-a5b7-412f-8692-0681a31e6cd8\":{\"version\":\"3.6.2\",\"title\":\"Bokeh Application\",\"roots\":[{\"type\":\"object\",\"name\":\"Row\",\"id\":\"67e81032-336f-4965-bbda-f82dec76e386\",\"attributes\":{\"name\":\"Row00803\",\"tags\":[\"embedded\"],\"stylesheets\":[\"\\n:host(.pn-loading):before, .pn-loading:before {\\n  background-color: #c3c3c3;\\n  mask-size: auto calc(min(50%, 400px));\\n  -webkit-mask-size: auto calc(min(50%, 400px));\\n}\",{\"type\":\"object\",\"name\":\"ImportedStyleSheet\",\"id\":\"a73ba3ea-f44e-4f11-9ab1-bad42b7fe41d\",\"attributes\":{\"url\":\"https://cdn.holoviz.org/panel/1.6.0/dist/css/loading.css\"}},{\"type\":\"object\",\"name\":\"ImportedStyleSheet\",\"id\":\"d30270d9-e4d7-4e68-81eb-d069f2d46459\",\"attributes\":{\"url\":\"https://cdn.holoviz.org/panel/1.6.0/dist/css/listpanel.css\"}},{\"type\":\"object\",\"name\":\"ImportedStyleSheet\",\"id\":\"7f6788f7-6b63-4318-9ccc-f4d9a5556369\",\"attributes\":{\"url\":\"https://cdn.holoviz.org/panel/1.6.0/dist/bundled/theme/default.css\"}},{\"type\":\"object\",\"name\":\"ImportedStyleSheet\",\"id\":\"9b55bc78-645c-4c67-9772-4f301cbe69c5\",\"attributes\":{\"url\":\"https://cdn.holoviz.org/panel/1.6.0/dist/bundled/theme/native.css\"}}],\"margin\":0,\"sizing_mode\":\"stretch_width\",\"align\":\"start\",\"children\":[{\"type\":\"object\",\"name\":\"Spacer\",\"id\":\"0f744235-5dfb-498f-aae0-efd366298da2\",\"attributes\":{\"name\":\"HSpacer00807\",\"stylesheets\":[\"\\n:host(.pn-loading):before, .pn-loading:before {\\n  background-color: #c3c3c3;\\n  mask-size: auto calc(min(50%, 400px));\\n  -webkit-mask-size: auto calc(min(50%, 400px));\\n}\",{\"id\":\"a73ba3ea-f44e-4f11-9ab1-bad42b7fe41d\"},{\"id\":\"7f6788f7-6b63-4318-9ccc-f4d9a5556369\"},{\"id\":\"9b55bc78-645c-4c67-9772-4f301cbe69c5\"}],\"margin\":0,\"sizing_mode\":\"stretch_width\",\"align\":\"start\"}},{\"type\":\"object\",\"name\":\"Figure\",\"id\":\"a66d6c14-bfd7-4300-b2c9-63167b8c08b6\",\"attributes\":{\"width\":null,\"height\":null,\"margin\":[5,10],\"sizing_mode\":\"fixed\",\"align\":\"start\",\"x_range\":{\"type\":\"object\",\"name\":\"Range1d\",\"id\":\"58bd956d-cb61-4f4d-93d6-b7e6530a738f\",\"attributes\":{\"name\":\"Longitude\",\"tags\":[[[\"Longitude\",null]],[]],\"start\":3371179.0187252006,\"end\":4236040.256906278,\"reset_start\":3371179.0187252006,\"reset_end\":4236040.256906278,\"min_interval\":5}},\"y_range\":{\"type\":\"object\",\"name\":\"Range1d\",\"id\":\"e78141dc-9a00-42f5-b4d1-0bbabce1125b\",\"attributes\":{\"name\":\"Latitude\",\"tags\":[[[\"Latitude\",null]],{\"type\":\"map\",\"entries\":[[\"invert_yaxis\",false],[\"autorange\",false]]}],\"start\":-2142973.249785078,\"end\":-1278112.0116040006,\"reset_start\":-2142973.249785078,\"reset_end\":-1278112.0116040006,\"min_interval\":5}},\"x_scale\":{\"type\":\"object\",\"name\":\"LinearScale\",\"id\":\"00cf6e32-bfd1-414a-929c-9bac55cee324\"},\"y_scale\":{\"type\":\"object\",\"name\":\"LinearScale\",\"id\":\"11d12a26-9de7-4408-be47-58de01974fa0\"},\"title\":{\"type\":\"object\",\"name\":\"Title\",\"id\":\"2b6aa94b-039c-4475-819c-f9b39987af56\",\"attributes\":{\"text_color\":\"black\",\"text_font_size\":\"12pt\"}},\"renderers\":[{\"type\":\"object\",\"name\":\"TileRenderer\",\"id\":\"a9291a5b-8d46-4c41-8f53-15a24928dbf6\",\"attributes\":{\"level\":\"underlay\",\"tile_source\":{\"type\":\"object\",\"name\":\"WMTSTileSource\",\"id\":\"262b4cd1-54ad-43cf-95b2-a5d9a8d7faca\",\"attributes\":{\"url\":\"https://c.tile.openstreetmap.org/{Z}/{X}/{Y}.png\",\"attribution\":\"&copy; <a href=\\\"https://www.openstreetmap.org/copyright\\\">OpenStreetMap</a> contributors\"}}}},{\"type\":\"object\",\"name\":\"GlyphRenderer\",\"id\":\"343d0ea1-8f28-406b-a7cf-b1c9ed618548\",\"attributes\":{\"data_source\":{\"type\":\"object\",\"name\":\"ColumnDataSource\",\"id\":\"07aac7cb-1059-40a8-bb7b-0a0c427c9fcb\",\"attributes\":{\"selected\":{\"type\":\"object\",\"name\":\"Selection\",\"id\":\"425bfc4b-63c9-46b6-9554-6758734fc41e\",\"attributes\":{\"indices\":[],\"line_indices\":[]}},\"selection_policy\":{\"type\":\"object\",\"name\":\"UnionRenderers\",\"id\":\"03f1868f-0110-4b20-ad70-213a09ad0f56\"},\"data\":{\"type\":\"map\",\"entries\":[[\"xs\",[{\"type\":\"ndarray\",\"array\":{\"type\":\"bytes\",\"data\":\"/EYoIz8YTEFExD29wNdLQUyCYLlO4UtBDfFb1qWZS0HOMWk4suNLQYNVQqBpH0xB2SCvd7yDTEHN1YzCHAdNQYD5ZSrUQk1BtJskznLqTEHYxNIBJ6dNQdsj5P/tq01BpCIUXoj/TUE4TmLVBxVOQQxqxi33dk5BrLJIn8uaTkFBOnOM4IxNQReExZ8aXU1BE1OiXJ7GTEH8RigjPxhMQQ==\"},\"shape\":[20],\"dtype\":\"float64\",\"order\":\"little\"}]],[\"ys\",[{\"type\":\"ndarray\",\"array\":{\"type\":\"bytes\",\"data\":\"i9x9YbFPNcH5IzAxIMc1wae6CeDFjzbBVvLRkKRTN8H9KZpBgxc4wRhkAjYtNDjBBYzgx3tEOcHAm8rmC/g4wWMVcJtcsjnBoUqYCHAdO8FU5KY/Rw49wcVIjQkLlD3B3yPk/+2rPcG7hzWFS2I8wUFlLL/50jvB+c29y+06OcHoSw7Dbtc2wRYZhpkmxTTB9sHpqieaNMGL3H1hsU81wQ==\"},\"shape\":[20],\"dtype\":\"float64\",\"order\":\"little\"}]]]}}},\"view\":{\"type\":\"object\",\"name\":\"CDSView\",\"id\":\"bcfb05c1-1fb8-42a0-9276-e0d88231d9de\",\"attributes\":{\"filter\":{\"type\":\"object\",\"name\":\"AllIndices\",\"id\":\"8965d124-6bba-4b55-8958-578cf904decd\"}}},\"glyph\":{\"type\":\"object\",\"name\":\"MultiLine\",\"id\":\"04fb4727-8748-4dff-a680-eea24dfb7678\",\"attributes\":{\"tags\":[\"apply_ranges\"],\"xs\":{\"type\":\"field\",\"field\":\"xs\"},\"ys\":{\"type\":\"field\",\"field\":\"ys\"},\"line_color\":{\"type\":\"value\",\"value\":\"#30a2da\"},\"line_width\":{\"type\":\"value\",\"value\":3}}},\"selection_glyph\":{\"type\":\"object\",\"name\":\"MultiLine\",\"id\":\"f072972b-6771-4601-a3ec-a9a77ee93b76\",\"attributes\":{\"tags\":[\"apply_ranges\"],\"xs\":{\"type\":\"field\",\"field\":\"xs\"},\"ys\":{\"type\":\"field\",\"field\":\"ys\"},\"line_color\":{\"type\":\"value\",\"value\":\"#30a2da\"},\"line_alpha\":{\"type\":\"value\",\"value\":1.0},\"line_width\":{\"type\":\"value\",\"value\":3},\"line_join\":{\"type\":\"value\",\"value\":\"bevel\"},\"line_cap\":{\"type\":\"value\",\"value\":\"butt\"},\"line_dash\":{\"type\":\"value\",\"value\":[]},\"line_dash_offset\":{\"type\":\"value\",\"value\":0}}},\"nonselection_glyph\":{\"type\":\"object\",\"name\":\"MultiLine\",\"id\":\"70c05276-6b7c-44e6-8dc5-3f1521b04e43\",\"attributes\":{\"tags\":[\"apply_ranges\"],\"xs\":{\"type\":\"field\",\"field\":\"xs\"},\"ys\":{\"type\":\"field\",\"field\":\"ys\"},\"line_color\":{\"type\":\"value\",\"value\":\"#30a2da\"},\"line_alpha\":{\"type\":\"value\",\"value\":0.1},\"line_width\":{\"type\":\"value\",\"value\":3}}},\"muted_glyph\":{\"type\":\"object\",\"name\":\"MultiLine\",\"id\":\"540c7f66-a5a6-42ef-803c-2fe375da250f\",\"attributes\":{\"tags\":[\"apply_ranges\"],\"xs\":{\"type\":\"field\",\"field\":\"xs\"},\"ys\":{\"type\":\"field\",\"field\":\"ys\"},\"line_color\":{\"type\":\"value\",\"value\":\"#30a2da\"},\"line_alpha\":{\"type\":\"value\",\"value\":0.2},\"line_width\":{\"type\":\"value\",\"value\":3}}}}},{\"type\":\"object\",\"name\":\"GlyphRenderer\",\"id\":\"c013e46e-0e3b-4ec9-b1d3-c86f8ac28396\",\"attributes\":{\"data_source\":{\"type\":\"object\",\"name\":\"ColumnDataSource\",\"id\":\"b20526e2-cb7a-48cb-b846-8c9c96472210\",\"attributes\":{\"selected\":{\"type\":\"object\",\"name\":\"Selection\",\"id\":\"5d4d778c-91ba-4418-b263-208a8ce3d28d\",\"attributes\":{\"indices\":[],\"line_indices\":[]}},\"selection_policy\":{\"type\":\"object\",\"name\":\"UnionRenderers\",\"id\":\"2bd15120-5cbd-40a3-b77b-8af6c995d6af\"},\"data\":{\"type\":\"map\",\"entries\":[[\"xs\",[{\"type\":\"ndarray\",\"array\":{\"type\":\"bytes\",\"data\":\"qX7YQkaRTUFRmRppIUJNQU8/g+h/zE5B4SNLoG8ZT0E=\"},\"shape\":[4],\"dtype\":\"float64\",\"order\":\"little\"},{\"type\":\"ndarray\",\"array\":{\"type\":\"bytes\",\"data\":\"6aHqeEVMTEFHmDVxZvZLQQ38O/jKak1B0APuQEG9TUE=\"},\"shape\":[4],\"dtype\":\"float64\",\"order\":\"little\"},{\"type\":\"ndarray\",\"array\":{\"type\":\"bytes\",\"data\":\"XmU1IvlfTEFr804i0bFMQYk/BJidQ0tBB8B6OafuSkE=\"},\"shape\":[4],\"dtype\":\"float64\",\"order\":\"little\"},{\"type\":\"ndarray\",\"array\":{\"type\":\"bytes\",\"data\":\"X0lqNBBMTUGlfJpTRPxMQYe8WBfsiU5B4ydGc0jXTkE=\"},\"shape\":[4],\"dtype\":\"float64\",\"order\":\"little\"},{\"type\":\"ndarray\",\"array\":{\"type\":\"bytes\",\"data\":\"dHOaNDeTTUHzh/4u50NNQWF6E7n3zU5BYSTNaTIbT0E=\"},\"shape\":[4],\"dtype\":\"float64\",\"order\":\"little\"}]],[\"ys\",[{\"type\":\"ndarray\",\"array\":{\"type\":\"bytes\",\"data\":\"098IDQq3OcHwUk5JxI48wZEfR4awBT3BvkQcO7wvOsE=\"},\"shape\":[4],\"dtype\":\"float64\",\"order\":\"little\"},{\"type\":\"ndarray\",\"array\":{\"type\":\"bytes\",\"data\":\"MTiqw26GOcEs+4yQY5M8wVws1YLONj3Bp1cywnkmOsE=\"},\"shape\":[4],\"dtype\":\"float64\",\"order\":\"little\"},{\"type\":\"ndarray\",\"array\":{\"type\":\"bytes\",\"data\":\"uITG8MmoOsHN1l8pZZ03wRbblJWg/jbBRzCFqNsGOsE=\"},\"shape\":[4],\"dtype\":\"float64\",\"order\":\"little\"},{\"type\":\"ndarray\",\"array\":{\"type\":\"bytes\",\"data\":\"JEmIEBxEPMHOBRrOxx4/waqA4Jh1mT/B/p5CNby+PME=\"},\"shape\":[4],\"dtype\":\"float64\",\"order\":\"little\"},{\"type\":\"ndarray\",\"array\":{\"type\":\"bytes\",\"data\":\"nvr8VEC3OcHacHysvY48waHUWoTDBT3BwFWv2wowOsE=\"},\"shape\":[4],\"dtype\":\"float64\",\"order\":\"little\"}]]]}}},\"view\":{\"type\":\"object\",\"name\":\"CDSView\",\"id\":\"e314c67c-ca75-4d7b-a700-c68f9ad93862\",\"attributes\":{\"filter\":{\"type\":\"object\",\"name\":\"AllIndices\",\"id\":\"c14b7812-e87c-4df2-8282-76b2aaf2936a\"}}},\"glyph\":{\"type\":\"object\",\"name\":\"MultiLine\",\"id\":\"0af85e3c-aa6c-445c-8814-c4e11fa15b12\",\"attributes\":{\"tags\":[\"apply_ranges\"],\"xs\":{\"type\":\"field\",\"field\":\"xs\"},\"ys\":{\"type\":\"field\",\"field\":\"ys\"},\"line_color\":{\"type\":\"value\",\"value\":\"#fc4f30\"}}},\"selection_glyph\":{\"type\":\"object\",\"name\":\"MultiLine\",\"id\":\"29c1e575-ed2a-4b48-895f-66edd3a39e7e\",\"attributes\":{\"tags\":[\"apply_ranges\"],\"xs\":{\"type\":\"field\",\"field\":\"xs\"},\"ys\":{\"type\":\"field\",\"field\":\"ys\"},\"line_color\":{\"type\":\"value\",\"value\":\"#fc4f30\"},\"line_alpha\":{\"type\":\"value\",\"value\":1.0},\"line_width\":{\"type\":\"value\",\"value\":1},\"line_join\":{\"type\":\"value\",\"value\":\"bevel\"},\"line_cap\":{\"type\":\"value\",\"value\":\"butt\"},\"line_dash\":{\"type\":\"value\",\"value\":[]},\"line_dash_offset\":{\"type\":\"value\",\"value\":0}}},\"nonselection_glyph\":{\"type\":\"object\",\"name\":\"MultiLine\",\"id\":\"51dfb558-d605-484b-8007-6eb1e7765307\",\"attributes\":{\"tags\":[\"apply_ranges\"],\"xs\":{\"type\":\"field\",\"field\":\"xs\"},\"ys\":{\"type\":\"field\",\"field\":\"ys\"},\"line_color\":{\"type\":\"value\",\"value\":\"#fc4f30\"},\"line_alpha\":{\"type\":\"value\",\"value\":0.1}}},\"muted_glyph\":{\"type\":\"object\",\"name\":\"MultiLine\",\"id\":\"7a009cad-e1b0-4977-afc0-e7010e748983\",\"attributes\":{\"tags\":[\"apply_ranges\"],\"xs\":{\"type\":\"field\",\"field\":\"xs\"},\"ys\":{\"type\":\"field\",\"field\":\"ys\"},\"line_color\":{\"type\":\"value\",\"value\":\"#fc4f30\"},\"line_alpha\":{\"type\":\"value\",\"value\":0.2}}}}}],\"toolbar\":{\"type\":\"object\",\"name\":\"Toolbar\",\"id\":\"f16cb1c9-26cb-4bcb-b446-03d6e70f0b2d\",\"attributes\":{\"tools\":[{\"type\":\"object\",\"name\":\"WheelZoomTool\",\"id\":\"eda4bd20-a0e8-4645-b66c-7cc6d916ac8f\",\"attributes\":{\"renderers\":\"auto\",\"zoom_on_axis\":false}},{\"type\":\"object\",\"name\":\"BoxZoomTool\",\"id\":\"72b84cd1-b452-45af-b835-3c51b4032d8e\",\"attributes\":{\"overlay\":{\"type\":\"object\",\"name\":\"BoxAnnotation\",\"id\":\"4c160139-ac1b-4057-9dfc-e4694bfbbe34\",\"attributes\":{\"syncable\":false,\"line_color\":\"black\",\"line_alpha\":1.0,\"line_width\":2,\"line_dash\":[4,4],\"fill_color\":\"lightgrey\",\"fill_alpha\":0.5,\"level\":\"overlay\",\"visible\":false,\"left\":{\"type\":\"number\",\"value\":\"nan\"},\"right\":{\"type\":\"number\",\"value\":\"nan\"},\"top\":{\"type\":\"number\",\"value\":\"nan\"},\"bottom\":{\"type\":\"number\",\"value\":\"nan\"},\"left_units\":\"canvas\",\"right_units\":\"canvas\",\"top_units\":\"canvas\",\"bottom_units\":\"canvas\",\"handles\":{\"type\":\"object\",\"name\":\"BoxInteractionHandles\",\"id\":\"65fc052f-3d0d-44ab-98da-bc937e3d2abf\",\"attributes\":{\"all\":{\"type\":\"object\",\"name\":\"AreaVisuals\",\"id\":\"cc98e50a-d0e4-46c5-8169-2049d0f3d9bd\",\"attributes\":{\"fill_color\":\"white\",\"hover_fill_color\":\"lightgray\"}}}}}},\"match_aspect\":true}},{\"type\":\"object\",\"name\":\"PanTool\",\"id\":\"c7510ab0-6fa0-42e8-ac79-f2376805bfbe\"},{\"type\":\"object\",\"name\":\"ResetTool\",\"id\":\"0edc75de-5193-493c-8e19-883291dbada1\"}],\"active_drag\":{\"id\":\"c7510ab0-6fa0-42e8-ac79-f2376805bfbe\"}}},\"left\":[{\"type\":\"object\",\"name\":\"LinearAxis\",\"id\":\"8e6e72c8-3eb8-46ae-a2dc-1f571d99b452\",\"attributes\":{\"visible\":false,\"ticker\":{\"type\":\"object\",\"name\":\"MercatorTicker\",\"id\":\"fcc5a468-c556-4dc1-97a1-5ce1bc91ef30\",\"attributes\":{\"mantissas\":[1,2,5],\"dimension\":\"lat\"}},\"formatter\":{\"type\":\"object\",\"name\":\"MercatorTickFormatter\",\"id\":\"502e6114-f448-4a88-b2d6-c37db02053be\",\"attributes\":{\"dimension\":\"lat\"}},\"axis_label\":\"Latitude\",\"major_label_policy\":{\"type\":\"object\",\"name\":\"AllLabels\",\"id\":\"3e97fab2-eb38-4dba-a521-fb784224537f\"}}}],\"below\":[{\"type\":\"object\",\"name\":\"LinearAxis\",\"id\":\"62ce12fe-d0c5-4e12-be8c-f5ced1677474\",\"attributes\":{\"visible\":false,\"ticker\":{\"type\":\"object\",\"name\":\"MercatorTicker\",\"id\":\"9af4a16d-5ba0-48a0-8d13-ded41b309945\",\"attributes\":{\"mantissas\":[1,2,5],\"dimension\":\"lon\"}},\"formatter\":{\"type\":\"object\",\"name\":\"MercatorTickFormatter\",\"id\":\"7b856487-4677-464e-823b-d5c13cfec4c8\",\"attributes\":{\"dimension\":\"lon\"}},\"axis_label\":\"Longitude\",\"major_label_policy\":{\"type\":\"object\",\"name\":\"AllLabels\",\"id\":\"10f1bd96-6c83-4bd3-b81b-1f5b86085049\"}}}],\"center\":[{\"type\":\"object\",\"name\":\"Grid\",\"id\":\"1a74beae-d7c7-4918-8bc1-51be0fca0b7e\",\"attributes\":{\"axis\":{\"id\":\"62ce12fe-d0c5-4e12-be8c-f5ced1677474\"},\"grid_line_color\":null}},{\"type\":\"object\",\"name\":\"Grid\",\"id\":\"1bcfe634-9814-4b30-8527-8a652db508a9\",\"attributes\":{\"dimension\":1,\"axis\":{\"id\":\"8e6e72c8-3eb8-46ae-a2dc-1f571d99b452\"},\"grid_line_color\":null}}],\"frame_width\":600,\"frame_height\":600,\"min_border_top\":10,\"min_border_bottom\":10,\"min_border_left\":10,\"min_border_right\":10,\"output_backend\":\"webgl\",\"match_aspect\":true}},{\"type\":\"object\",\"name\":\"Spacer\",\"id\":\"7988bdea-3476-4502-ba93-eaf68678cc26\",\"attributes\":{\"name\":\"HSpacer00808\",\"stylesheets\":[\"\\n:host(.pn-loading):before, .pn-loading:before {\\n  background-color: #c3c3c3;\\n  mask-size: auto calc(min(50%, 400px));\\n  -webkit-mask-size: auto calc(min(50%, 400px));\\n}\",{\"id\":\"a73ba3ea-f44e-4f11-9ab1-bad42b7fe41d\"},{\"id\":\"7f6788f7-6b63-4318-9ccc-f4d9a5556369\"},{\"id\":\"9b55bc78-645c-4c67-9772-4f301cbe69c5\"}],\"margin\":0,\"sizing_mode\":\"stretch_width\",\"align\":\"start\"}}]}}],\"defs\":[{\"type\":\"model\",\"name\":\"ReactiveHTML1\"},{\"type\":\"model\",\"name\":\"FlexBox1\",\"properties\":[{\"name\":\"align_content\",\"kind\":\"Any\",\"default\":\"flex-start\"},{\"name\":\"align_items\",\"kind\":\"Any\",\"default\":\"flex-start\"},{\"name\":\"flex_direction\",\"kind\":\"Any\",\"default\":\"row\"},{\"name\":\"flex_wrap\",\"kind\":\"Any\",\"default\":\"wrap\"},{\"name\":\"gap\",\"kind\":\"Any\",\"default\":\"\"},{\"name\":\"justify_content\",\"kind\":\"Any\",\"default\":\"flex-start\"}]},{\"type\":\"model\",\"name\":\"FloatPanel1\",\"properties\":[{\"name\":\"config\",\"kind\":\"Any\",\"default\":{\"type\":\"map\"}},{\"name\":\"contained\",\"kind\":\"Any\",\"default\":true},{\"name\":\"position\",\"kind\":\"Any\",\"default\":\"right-top\"},{\"name\":\"offsetx\",\"kind\":\"Any\",\"default\":null},{\"name\":\"offsety\",\"kind\":\"Any\",\"default\":null},{\"name\":\"theme\",\"kind\":\"Any\",\"default\":\"primary\"},{\"name\":\"status\",\"kind\":\"Any\",\"default\":\"normalized\"}]},{\"type\":\"model\",\"name\":\"GridStack1\",\"properties\":[{\"name\":\"mode\",\"kind\":\"Any\",\"default\":\"warn\"},{\"name\":\"ncols\",\"kind\":\"Any\",\"default\":null},{\"name\":\"nrows\",\"kind\":\"Any\",\"default\":null},{\"name\":\"allow_resize\",\"kind\":\"Any\",\"default\":true},{\"name\":\"allow_drag\",\"kind\":\"Any\",\"default\":true},{\"name\":\"state\",\"kind\":\"Any\",\"default\":[]}]},{\"type\":\"model\",\"name\":\"drag1\",\"properties\":[{\"name\":\"slider_width\",\"kind\":\"Any\",\"default\":5},{\"name\":\"slider_color\",\"kind\":\"Any\",\"default\":\"black\"},{\"name\":\"value\",\"kind\":\"Any\",\"default\":50}]},{\"type\":\"model\",\"name\":\"click1\",\"properties\":[{\"name\":\"terminal_output\",\"kind\":\"Any\",\"default\":\"\"},{\"name\":\"debug_name\",\"kind\":\"Any\",\"default\":\"\"},{\"name\":\"clears\",\"kind\":\"Any\",\"default\":0}]},{\"type\":\"model\",\"name\":\"FastWrapper1\",\"properties\":[{\"name\":\"object\",\"kind\":\"Any\",\"default\":null},{\"name\":\"style\",\"kind\":\"Any\",\"default\":null}]},{\"type\":\"model\",\"name\":\"NotificationAreaBase1\",\"properties\":[{\"name\":\"js_events\",\"kind\":\"Any\",\"default\":{\"type\":\"map\"}},{\"name\":\"position\",\"kind\":\"Any\",\"default\":\"bottom-right\"},{\"name\":\"_clear\",\"kind\":\"Any\",\"default\":0}]},{\"type\":\"model\",\"name\":\"NotificationArea1\",\"properties\":[{\"name\":\"js_events\",\"kind\":\"Any\",\"default\":{\"type\":\"map\"}},{\"name\":\"notifications\",\"kind\":\"Any\",\"default\":[]},{\"name\":\"position\",\"kind\":\"Any\",\"default\":\"bottom-right\"},{\"name\":\"_clear\",\"kind\":\"Any\",\"default\":0},{\"name\":\"types\",\"kind\":\"Any\",\"default\":[{\"type\":\"map\",\"entries\":[[\"type\",\"warning\"],[\"background\",\"#ffc107\"],[\"icon\",{\"type\":\"map\",\"entries\":[[\"className\",\"fas fa-exclamation-triangle\"],[\"tagName\",\"i\"],[\"color\",\"white\"]]}]]},{\"type\":\"map\",\"entries\":[[\"type\",\"info\"],[\"background\",\"#007bff\"],[\"icon\",{\"type\":\"map\",\"entries\":[[\"className\",\"fas fa-info-circle\"],[\"tagName\",\"i\"],[\"color\",\"white\"]]}]]}]}]},{\"type\":\"model\",\"name\":\"Notification\",\"properties\":[{\"name\":\"background\",\"kind\":\"Any\",\"default\":null},{\"name\":\"duration\",\"kind\":\"Any\",\"default\":3000},{\"name\":\"icon\",\"kind\":\"Any\",\"default\":null},{\"name\":\"message\",\"kind\":\"Any\",\"default\":\"\"},{\"name\":\"notification_type\",\"kind\":\"Any\",\"default\":null},{\"name\":\"_rendered\",\"kind\":\"Any\",\"default\":false},{\"name\":\"_destroyed\",\"kind\":\"Any\",\"default\":false}]},{\"type\":\"model\",\"name\":\"TemplateActions1\",\"properties\":[{\"name\":\"open_modal\",\"kind\":\"Any\",\"default\":0},{\"name\":\"close_modal\",\"kind\":\"Any\",\"default\":0}]},{\"type\":\"model\",\"name\":\"BootstrapTemplateActions1\",\"properties\":[{\"name\":\"open_modal\",\"kind\":\"Any\",\"default\":0},{\"name\":\"close_modal\",\"kind\":\"Any\",\"default\":0}]},{\"type\":\"model\",\"name\":\"TemplateEditor1\",\"properties\":[{\"name\":\"layout\",\"kind\":\"Any\",\"default\":[]}]},{\"type\":\"model\",\"name\":\"MaterialTemplateActions1\",\"properties\":[{\"name\":\"open_modal\",\"kind\":\"Any\",\"default\":0},{\"name\":\"close_modal\",\"kind\":\"Any\",\"default\":0}]},{\"type\":\"model\",\"name\":\"ReactiveESM1\",\"properties\":[{\"name\":\"esm_constants\",\"kind\":\"Any\",\"default\":{\"type\":\"map\"}}]},{\"type\":\"model\",\"name\":\"JSComponent1\",\"properties\":[{\"name\":\"esm_constants\",\"kind\":\"Any\",\"default\":{\"type\":\"map\"}}]},{\"type\":\"model\",\"name\":\"ReactComponent1\",\"properties\":[{\"name\":\"esm_constants\",\"kind\":\"Any\",\"default\":{\"type\":\"map\"}}]},{\"type\":\"model\",\"name\":\"AnyWidgetComponent1\",\"properties\":[{\"name\":\"esm_constants\",\"kind\":\"Any\",\"default\":{\"type\":\"map\"}}]},{\"type\":\"model\",\"name\":\"request_value1\",\"properties\":[{\"name\":\"fill\",\"kind\":\"Any\",\"default\":\"none\"},{\"name\":\"_synced\",\"kind\":\"Any\",\"default\":null},{\"name\":\"_request_sync\",\"kind\":\"Any\",\"default\":0}]}]}};\n",
       "  var render_items = [{\"docid\":\"44895c12-a5b7-412f-8692-0681a31e6cd8\",\"roots\":{\"67e81032-336f-4965-bbda-f82dec76e386\":\"c6370d21-8a03-43c3-8890-71e64ace3e06\"},\"root_ids\":[\"67e81032-336f-4965-bbda-f82dec76e386\"]}];\n",
       "  var docs = Object.values(docs_json)\n",
       "  if (!docs) {\n",
       "    return\n",
       "  }\n",
       "  const py_version = docs[0].version.replace('rc', '-rc.').replace('.dev', '-dev.')\n",
       "  async function embed_document(root) {\n",
       "    var Bokeh = get_bokeh(root)\n",
       "    await Bokeh.embed.embed_items_notebook(docs_json, render_items);\n",
       "    for (const render_item of render_items) {\n",
       "      for (const root_id of render_item.root_ids) {\n",
       "\tconst id_el = document.getElementById(root_id)\n",
       "\tif (id_el.children.length && id_el.children[0].hasAttribute('data-root-id')) {\n",
       "\t  const root_el = id_el.children[0]\n",
       "\t  root_el.id = root_el.id + '-rendered'\n",
       "\t  for (const child of root_el.children) {\n",
       "            // Ensure JupyterLab does not capture keyboard shortcuts\n",
       "            // see: https://jupyterlab.readthedocs.io/en/4.1.x/extension/notebook.html#keyboard-interaction-model\n",
       "\t    child.setAttribute('data-lm-suppress-shortcuts', 'true')\n",
       "\t  }\n",
       "\t}\n",
       "      }\n",
       "    }\n",
       "  }\n",
       "  function get_bokeh(root) {\n",
       "    if (root.Bokeh === undefined) {\n",
       "      return null\n",
       "    } else if (root.Bokeh.version !== py_version) {\n",
       "      if (root.Bokeh.versions === undefined || !root.Bokeh.versions.has(py_version)) {\n",
       "\treturn null\n",
       "      }\n",
       "      return root.Bokeh.versions.get(py_version);\n",
       "    } else if (root.Bokeh.version === py_version) {\n",
       "      return root.Bokeh\n",
       "    }\n",
       "    return null\n",
       "  }\n",
       "  function is_loaded(root) {\n",
       "    var Bokeh = get_bokeh(root)\n",
       "    return (Bokeh != null && Bokeh.Panel !== undefined)\n",
       "  }\n",
       "  if (is_loaded(root)) {\n",
       "    embed_document(root);\n",
       "  } else {\n",
       "    var attempts = 0;\n",
       "    var timer = setInterval(function(root) {\n",
       "      if (is_loaded(root)) {\n",
       "        clearInterval(timer);\n",
       "        embed_document(root);\n",
       "      } else if (document.readyState == \"complete\") {\n",
       "        attempts++;\n",
       "        if (attempts > 200) {\n",
       "          clearInterval(timer);\n",
       "\t  var Bokeh = get_bokeh(root)\n",
       "\t  if (Bokeh == null || Bokeh.Panel == null) {\n",
       "            console.warn(\"Panel: ERROR: Unable to run Panel code because Bokeh or Panel library is missing\");\n",
       "\t  } else {\n",
       "\t    console.warn(\"Panel: WARNING: Attempting to render but not all required libraries could be resolved.\")\n",
       "\t    embed_document(root)\n",
       "\t  }\n",
       "        }\n",
       "      }\n",
       "    }, 25, root)\n",
       "  }\n",
       "})(window);</script>"
      ],
      "text/plain": [
       ":Overlay\n",
       "   .WMTS.I  :WMTS   [Longitude,Latitude]\n",
       "   .Path.I  :Path   [Longitude,Latitude]\n",
       "   .Path.II :Path   [Longitude,Latitude]"
      ]
     },
     "execution_count": 8,
     "metadata": {
      "application/vnd.holoviews_exec.v0+json": {
       "id": "67e81032-336f-4965-bbda-f82dec76e386"
      }
     },
     "output_type": "execute_result"
    }
   ],
   "source": [
    "plot_polygons(aoi) * items_gdf.hvplot.paths(geo=True)"
   ]
  },
  {
   "cell_type": "markdown",
   "id": "6f258702",
   "metadata": {},
   "source": [
    "# OpenDataCube\n",
    "\n",
    "Now we'll turn the set of scenes into a virtual datacube. None of the data will actually be read yet.\n",
    "\n",
    "The configuration string (`cfg`) is for providing additional info not currently available in the STAC Items, but will be in the future."
   ]
  },
  {
   "cell_type": "code",
   "execution_count": null,
   "id": "74858c15",
   "metadata": {},
   "outputs": [],
   "source": [
    "import yaml\n",
    "\n",
    "cfg = \"\"\"---\n",
    "landat-c2l2-sr:\n",
    "  measurements:\n",
    "    '*':\n",
    "      dtype: uint16\n",
    "      nodata: 0\n",
    "      unit: 'm'\n",
    "\"\"\"\n",
    "cfg = yaml.load(cfg, Loader=yaml.CSafeLoader)"
   ]
  },
  {
   "cell_type": "markdown",
   "id": "08311f41",
   "metadata": {},
   "source": [
    "Here we load as a DataCube. A PySTAC ItemCollection is created from the found STAC Items, and we specify various parameters, such as bands of interest, chunk size, and geometry to clip the data to."
   ]
  },
  {
   "cell_type": "code",
   "execution_count": 7,
   "id": "583cd3a8",
   "metadata": {
    "tags": []
   },
   "outputs": [
    {
     "ename": "ImportError",
     "evalue": "DLL load failed while importing _multiarray_umath: The specified module could not be found.",
     "output_type": "error",
     "traceback": [
      "\u001b[31m---------------------------------------------------------------------------\u001b[39m",
      "\u001b[31mImportError\u001b[39m                               Traceback (most recent call last)",
      "\u001b[31mImportError\u001b[39m: DLL load failed while importing _multiarray_umath: The specified module could not be found."
     ]
    },
    {
     "ename": "ImportError",
     "evalue": "numpy._core.multiarray failed to import",
     "output_type": "error",
     "traceback": [
      "\u001b[31m---------------------------------------------------------------------------\u001b[39m",
      "\u001b[31mImportError\u001b[39m                               Traceback (most recent call last)",
      "\u001b[36mFile \u001b[39m\u001b[32m<timed exec>:1\u001b[39m\n",
      "\u001b[36mFile \u001b[39m\u001b[32mc:\\Users\\Khizer Zakir\\.conda\\envs\\virtucube\\Lib\\site-packages\\odc\\__init__.py:1\u001b[39m\n\u001b[32m----> \u001b[39m\u001b[32m1\u001b[39m \u001b[38;5;28;01mfrom\u001b[39;00m\u001b[38;5;250m \u001b[39m\u001b[34;01m.\u001b[39;00m\u001b[34;01mdata\u001b[39;00m\u001b[38;5;250m \u001b[39m\u001b[38;5;28;01mimport\u001b[39;00m *\n\u001b[32m      2\u001b[39m \u001b[38;5;28;01mfrom\u001b[39;00m\u001b[38;5;250m \u001b[39m\u001b[34;01m.\u001b[39;00m\u001b[34;01mutils\u001b[39;00m\u001b[38;5;250m \u001b[39m\u001b[38;5;28;01mimport\u001b[39;00m *\n\u001b[32m      3\u001b[39m \u001b[38;5;28;01mfrom\u001b[39;00m\u001b[38;5;250m \u001b[39m\u001b[34;01m.\u001b[39;00m\u001b[34;01manalysis\u001b[39;00m\u001b[38;5;250m \u001b[39m\u001b[38;5;28;01mimport\u001b[39;00m *\n",
      "\u001b[36mFile \u001b[39m\u001b[32mc:\\Users\\Khizer Zakir\\.conda\\envs\\virtucube\\Lib\\site-packages\\odc\\data.py:11\u001b[39m\n\u001b[32m      8\u001b[39m \u001b[38;5;28;01mimport\u001b[39;00m\u001b[38;5;250m \u001b[39m\u001b[34;01mos\u001b[39;00m\n\u001b[32m      9\u001b[39m \u001b[38;5;28;01mfrom\u001b[39;00m\u001b[38;5;250m \u001b[39m\u001b[34;01mio\u001b[39;00m\u001b[38;5;250m \u001b[39m\u001b[38;5;28;01mimport\u001b[39;00m StringIO\n\u001b[32m---> \u001b[39m\u001b[32m11\u001b[39m \u001b[38;5;28;01mimport\u001b[39;00m\u001b[38;5;250m \u001b[39m\u001b[34;01mgeopandas\u001b[39;00m\u001b[38;5;250m \u001b[39m\u001b[38;5;28;01mas\u001b[39;00m\u001b[38;5;250m \u001b[39m\u001b[34;01mgpd\u001b[39;00m\n\u001b[32m     12\u001b[39m \u001b[38;5;28;01mimport\u001b[39;00m\u001b[38;5;250m \u001b[39m\u001b[34;01mosmnx\u001b[39;00m\u001b[38;5;250m \u001b[39m\u001b[38;5;28;01mas\u001b[39;00m\u001b[38;5;250m \u001b[39m\u001b[34;01mox\u001b[39;00m\n\u001b[32m     13\u001b[39m \u001b[38;5;28;01mimport\u001b[39;00m\u001b[38;5;250m \u001b[39m\u001b[34;01mpandas\u001b[39;00m\u001b[38;5;250m \u001b[39m\u001b[38;5;28;01mas\u001b[39;00m\u001b[38;5;250m \u001b[39m\u001b[34;01mpd\u001b[39;00m\n",
      "\u001b[36mFile \u001b[39m\u001b[32mc:\\Users\\Khizer Zakir\\.conda\\envs\\virtucube\\Lib\\site-packages\\geopandas\\__init__.py:3\u001b[39m\n\u001b[32m      1\u001b[39m \u001b[38;5;28;01mfrom\u001b[39;00m\u001b[38;5;250m \u001b[39m\u001b[34;01mgeopandas\u001b[39;00m\u001b[34;01m.\u001b[39;00m\u001b[34;01m_config\u001b[39;00m\u001b[38;5;250m \u001b[39m\u001b[38;5;28;01mimport\u001b[39;00m options\n\u001b[32m----> \u001b[39m\u001b[32m3\u001b[39m \u001b[38;5;28;01mfrom\u001b[39;00m\u001b[38;5;250m \u001b[39m\u001b[34;01mgeopandas\u001b[39;00m\u001b[34;01m.\u001b[39;00m\u001b[34;01mgeoseries\u001b[39;00m\u001b[38;5;250m \u001b[39m\u001b[38;5;28;01mimport\u001b[39;00m GeoSeries\n\u001b[32m      4\u001b[39m \u001b[38;5;28;01mfrom\u001b[39;00m\u001b[38;5;250m \u001b[39m\u001b[34;01mgeopandas\u001b[39;00m\u001b[34;01m.\u001b[39;00m\u001b[34;01mgeodataframe\u001b[39;00m\u001b[38;5;250m \u001b[39m\u001b[38;5;28;01mimport\u001b[39;00m GeoDataFrame\n\u001b[32m      5\u001b[39m \u001b[38;5;28;01mfrom\u001b[39;00m\u001b[38;5;250m \u001b[39m\u001b[34;01mgeopandas\u001b[39;00m\u001b[34;01m.\u001b[39;00m\u001b[34;01marray\u001b[39;00m\u001b[38;5;250m \u001b[39m\u001b[38;5;28;01mimport\u001b[39;00m points_from_xy\n",
      "\u001b[36mFile \u001b[39m\u001b[32mc:\\Users\\Khizer Zakir\\.conda\\envs\\virtucube\\Lib\\site-packages\\geopandas\\geoseries.py:9\u001b[39m\n\u001b[32m      6\u001b[39m \u001b[38;5;28;01mfrom\u001b[39;00m\u001b[38;5;250m \u001b[39m\u001b[34;01mtyping\u001b[39;00m\u001b[38;5;250m \u001b[39m\u001b[38;5;28;01mimport\u001b[39;00m Any, Callable, Dict, Optional\n\u001b[32m      8\u001b[39m \u001b[38;5;28;01mimport\u001b[39;00m\u001b[38;5;250m \u001b[39m\u001b[34;01mnumpy\u001b[39;00m\u001b[38;5;250m \u001b[39m\u001b[38;5;28;01mas\u001b[39;00m\u001b[38;5;250m \u001b[39m\u001b[34;01mnp\u001b[39;00m\n\u001b[32m----> \u001b[39m\u001b[32m9\u001b[39m \u001b[38;5;28;01mimport\u001b[39;00m\u001b[38;5;250m \u001b[39m\u001b[34;01mpandas\u001b[39;00m\u001b[38;5;250m \u001b[39m\u001b[38;5;28;01mas\u001b[39;00m\u001b[38;5;250m \u001b[39m\u001b[34;01mpd\u001b[39;00m\n\u001b[32m     10\u001b[39m \u001b[38;5;28;01mfrom\u001b[39;00m\u001b[38;5;250m \u001b[39m\u001b[34;01mpandas\u001b[39;00m\u001b[38;5;250m \u001b[39m\u001b[38;5;28;01mimport\u001b[39;00m Series\n\u001b[32m     11\u001b[39m \u001b[38;5;28;01mfrom\u001b[39;00m\u001b[38;5;250m \u001b[39m\u001b[34;01mpandas\u001b[39;00m\u001b[34;01m.\u001b[39;00m\u001b[34;01mcore\u001b[39;00m\u001b[34;01m.\u001b[39;00m\u001b[34;01minternals\u001b[39;00m\u001b[38;5;250m \u001b[39m\u001b[38;5;28;01mimport\u001b[39;00m SingleBlockManager\n",
      "\u001b[36mFile \u001b[39m\u001b[32mc:\\Users\\Khizer Zakir\\.conda\\envs\\virtucube\\Lib\\site-packages\\pandas\\__init__.py:49\u001b[39m\n\u001b[32m     46\u001b[39m \u001b[38;5;66;03m# let init-time option registration happen\u001b[39;00m\n\u001b[32m     47\u001b[39m \u001b[38;5;28;01mimport\u001b[39;00m\u001b[38;5;250m \u001b[39m\u001b[34;01mpandas\u001b[39;00m\u001b[34;01m.\u001b[39;00m\u001b[34;01mcore\u001b[39;00m\u001b[34;01m.\u001b[39;00m\u001b[34;01mconfig_init\u001b[39;00m  \u001b[38;5;66;03m# pyright: ignore[reportUnusedImport] # noqa: F401\u001b[39;00m\n\u001b[32m---> \u001b[39m\u001b[32m49\u001b[39m \u001b[38;5;28;01mfrom\u001b[39;00m\u001b[38;5;250m \u001b[39m\u001b[34;01mpandas\u001b[39;00m\u001b[34;01m.\u001b[39;00m\u001b[34;01mcore\u001b[39;00m\u001b[34;01m.\u001b[39;00m\u001b[34;01mapi\u001b[39;00m\u001b[38;5;250m \u001b[39m\u001b[38;5;28;01mimport\u001b[39;00m (\n\u001b[32m     50\u001b[39m     \u001b[38;5;66;03m# dtype\u001b[39;00m\n\u001b[32m     51\u001b[39m     ArrowDtype,\n\u001b[32m     52\u001b[39m     Int8Dtype,\n\u001b[32m     53\u001b[39m     Int16Dtype,\n\u001b[32m     54\u001b[39m     Int32Dtype,\n\u001b[32m     55\u001b[39m     Int64Dtype,\n\u001b[32m     56\u001b[39m     UInt8Dtype,\n\u001b[32m     57\u001b[39m     UInt16Dtype,\n\u001b[32m     58\u001b[39m     UInt32Dtype,\n\u001b[32m     59\u001b[39m     UInt64Dtype,\n\u001b[32m     60\u001b[39m     Float32Dtype,\n\u001b[32m     61\u001b[39m     Float64Dtype,\n\u001b[32m     62\u001b[39m     CategoricalDtype,\n\u001b[32m     63\u001b[39m     PeriodDtype,\n\u001b[32m     64\u001b[39m     IntervalDtype,\n\u001b[32m     65\u001b[39m     DatetimeTZDtype,\n\u001b[32m     66\u001b[39m     StringDtype,\n\u001b[32m     67\u001b[39m     BooleanDtype,\n\u001b[32m     68\u001b[39m     \u001b[38;5;66;03m# missing\u001b[39;00m\n\u001b[32m     69\u001b[39m     NA,\n\u001b[32m     70\u001b[39m     isna,\n\u001b[32m     71\u001b[39m     isnull,\n\u001b[32m     72\u001b[39m     notna,\n\u001b[32m     73\u001b[39m     notnull,\n\u001b[32m     74\u001b[39m     \u001b[38;5;66;03m# indexes\u001b[39;00m\n\u001b[32m     75\u001b[39m     Index,\n\u001b[32m     76\u001b[39m     CategoricalIndex,\n\u001b[32m     77\u001b[39m     RangeIndex,\n\u001b[32m     78\u001b[39m     MultiIndex,\n\u001b[32m     79\u001b[39m     IntervalIndex,\n\u001b[32m     80\u001b[39m     TimedeltaIndex,\n\u001b[32m     81\u001b[39m     DatetimeIndex,\n\u001b[32m     82\u001b[39m     PeriodIndex,\n\u001b[32m     83\u001b[39m     IndexSlice,\n\u001b[32m     84\u001b[39m     \u001b[38;5;66;03m# tseries\u001b[39;00m\n\u001b[32m     85\u001b[39m     NaT,\n\u001b[32m     86\u001b[39m     Period,\n\u001b[32m     87\u001b[39m     period_range,\n\u001b[32m     88\u001b[39m     Timedelta,\n\u001b[32m     89\u001b[39m     timedelta_range,\n\u001b[32m     90\u001b[39m     Timestamp,\n\u001b[32m     91\u001b[39m     date_range,\n\u001b[32m     92\u001b[39m     bdate_range,\n\u001b[32m     93\u001b[39m     Interval,\n\u001b[32m     94\u001b[39m     interval_range,\n\u001b[32m     95\u001b[39m     DateOffset,\n\u001b[32m     96\u001b[39m     \u001b[38;5;66;03m# conversion\u001b[39;00m\n\u001b[32m     97\u001b[39m     to_numeric,\n\u001b[32m     98\u001b[39m     to_datetime,\n\u001b[32m     99\u001b[39m     to_timedelta,\n\u001b[32m    100\u001b[39m     \u001b[38;5;66;03m# misc\u001b[39;00m\n\u001b[32m    101\u001b[39m     Flags,\n\u001b[32m    102\u001b[39m     Grouper,\n\u001b[32m    103\u001b[39m     factorize,\n\u001b[32m    104\u001b[39m     unique,\n\u001b[32m    105\u001b[39m     value_counts,\n\u001b[32m    106\u001b[39m     NamedAgg,\n\u001b[32m    107\u001b[39m     array,\n\u001b[32m    108\u001b[39m     Categorical,\n\u001b[32m    109\u001b[39m     set_eng_float_format,\n\u001b[32m    110\u001b[39m     Series,\n\u001b[32m    111\u001b[39m     DataFrame,\n\u001b[32m    112\u001b[39m )\n\u001b[32m    114\u001b[39m \u001b[38;5;28;01mfrom\u001b[39;00m\u001b[38;5;250m \u001b[39m\u001b[34;01mpandas\u001b[39;00m\u001b[34;01m.\u001b[39;00m\u001b[34;01mcore\u001b[39;00m\u001b[34;01m.\u001b[39;00m\u001b[34;01mdtypes\u001b[39;00m\u001b[34;01m.\u001b[39;00m\u001b[34;01mdtypes\u001b[39;00m\u001b[38;5;250m \u001b[39m\u001b[38;5;28;01mimport\u001b[39;00m SparseDtype\n\u001b[32m    116\u001b[39m \u001b[38;5;28;01mfrom\u001b[39;00m\u001b[38;5;250m \u001b[39m\u001b[34;01mpandas\u001b[39;00m\u001b[34;01m.\u001b[39;00m\u001b[34;01mtseries\u001b[39;00m\u001b[34;01m.\u001b[39;00m\u001b[34;01mapi\u001b[39;00m\u001b[38;5;250m \u001b[39m\u001b[38;5;28;01mimport\u001b[39;00m infer_freq\n",
      "\u001b[36mFile \u001b[39m\u001b[32mc:\\Users\\Khizer Zakir\\.conda\\envs\\virtucube\\Lib\\site-packages\\pandas\\core\\api.py:1\u001b[39m\n\u001b[32m----> \u001b[39m\u001b[32m1\u001b[39m \u001b[38;5;28;01mfrom\u001b[39;00m\u001b[38;5;250m \u001b[39m\u001b[34;01mpandas\u001b[39;00m\u001b[34;01m.\u001b[39;00m\u001b[34;01m_libs\u001b[39;00m\u001b[38;5;250m \u001b[39m\u001b[38;5;28;01mimport\u001b[39;00m (\n\u001b[32m      2\u001b[39m     NaT,\n\u001b[32m      3\u001b[39m     Period,\n\u001b[32m      4\u001b[39m     Timedelta,\n\u001b[32m      5\u001b[39m     Timestamp,\n\u001b[32m      6\u001b[39m )\n\u001b[32m      7\u001b[39m \u001b[38;5;28;01mfrom\u001b[39;00m\u001b[38;5;250m \u001b[39m\u001b[34;01mpandas\u001b[39;00m\u001b[34;01m.\u001b[39;00m\u001b[34;01m_libs\u001b[39;00m\u001b[34;01m.\u001b[39;00m\u001b[34;01mmissing\u001b[39;00m\u001b[38;5;250m \u001b[39m\u001b[38;5;28;01mimport\u001b[39;00m NA\n\u001b[32m      9\u001b[39m \u001b[38;5;28;01mfrom\u001b[39;00m\u001b[38;5;250m \u001b[39m\u001b[34;01mpandas\u001b[39;00m\u001b[34;01m.\u001b[39;00m\u001b[34;01mcore\u001b[39;00m\u001b[34;01m.\u001b[39;00m\u001b[34;01mdtypes\u001b[39;00m\u001b[34;01m.\u001b[39;00m\u001b[34;01mdtypes\u001b[39;00m\u001b[38;5;250m \u001b[39m\u001b[38;5;28;01mimport\u001b[39;00m (\n\u001b[32m     10\u001b[39m     ArrowDtype,\n\u001b[32m     11\u001b[39m     CategoricalDtype,\n\u001b[32m   (...)\u001b[39m\u001b[32m     14\u001b[39m     PeriodDtype,\n\u001b[32m     15\u001b[39m )\n",
      "\u001b[36mFile \u001b[39m\u001b[32mc:\\Users\\Khizer Zakir\\.conda\\envs\\virtucube\\Lib\\site-packages\\pandas\\_libs\\__init__.py:17\u001b[39m\n\u001b[32m     13\u001b[39m \u001b[38;5;66;03m# Below imports needs to happen first to ensure pandas top level\u001b[39;00m\n\u001b[32m     14\u001b[39m \u001b[38;5;66;03m# module gets monkeypatched with the pandas_datetime_CAPI\u001b[39;00m\n\u001b[32m     15\u001b[39m \u001b[38;5;66;03m# see pandas_datetime_exec in pd_datetime.c\u001b[39;00m\n\u001b[32m     16\u001b[39m \u001b[38;5;28;01mimport\u001b[39;00m\u001b[38;5;250m \u001b[39m\u001b[34;01mpandas\u001b[39;00m\u001b[34;01m.\u001b[39;00m\u001b[34;01m_libs\u001b[39;00m\u001b[34;01m.\u001b[39;00m\u001b[34;01mpandas_parser\u001b[39;00m  \u001b[38;5;66;03m# isort: skip # type: ignore[reportUnusedImport]\u001b[39;00m\n\u001b[32m---> \u001b[39m\u001b[32m17\u001b[39m \u001b[38;5;28;01mimport\u001b[39;00m\u001b[38;5;250m \u001b[39m\u001b[34;01mpandas\u001b[39;00m\u001b[34;01m.\u001b[39;00m\u001b[34;01m_libs\u001b[39;00m\u001b[34;01m.\u001b[39;00m\u001b[34;01mpandas_datetime\u001b[39;00m  \u001b[38;5;66;03m# noqa: F401 # isort: skip # type: ignore[reportUnusedImport]\u001b[39;00m\n\u001b[32m     18\u001b[39m \u001b[38;5;28;01mfrom\u001b[39;00m\u001b[38;5;250m \u001b[39m\u001b[34;01mpandas\u001b[39;00m\u001b[34;01m.\u001b[39;00m\u001b[34;01m_libs\u001b[39;00m\u001b[34;01m.\u001b[39;00m\u001b[34;01minterval\u001b[39;00m\u001b[38;5;250m \u001b[39m\u001b[38;5;28;01mimport\u001b[39;00m Interval\n\u001b[32m     19\u001b[39m \u001b[38;5;28;01mfrom\u001b[39;00m\u001b[38;5;250m \u001b[39m\u001b[34;01mpandas\u001b[39;00m\u001b[34;01m.\u001b[39;00m\u001b[34;01m_libs\u001b[39;00m\u001b[34;01m.\u001b[39;00m\u001b[34;01mtslibs\u001b[39;00m\u001b[38;5;250m \u001b[39m\u001b[38;5;28;01mimport\u001b[39;00m (\n\u001b[32m     20\u001b[39m     NaT,\n\u001b[32m     21\u001b[39m     NaTType,\n\u001b[32m   (...)\u001b[39m\u001b[32m     26\u001b[39m     iNaT,\n\u001b[32m     27\u001b[39m )\n",
      "\u001b[31mImportError\u001b[39m: numpy._core.multiarray failed to import"
     ]
    }
   ],
   "source": [
    "%%time\n",
    "\n",
    "from odc.stac import stac_load\n",
    "\n",
    "# Create PySTAC ItemCollection\n",
    "item_collection = pystac.ItemCollection(items_dict)\n",
    "\n",
    "# default to CRS and resolution from first Item\n",
    "from pystac.extensions.projection import ProjectionExtension\n",
    "from pyproj import CRS\n",
    "\n",
    "dc = stac_load(item_collection,\n",
    "               bands=['red', 'blue', 'green', 'nir08'],\n",
    "               chunks={\"x\": 2048, \"y\": 2048},\n",
    "               groupby='solar_day',\n",
    "               stac_cfg=cfg,\n",
    "               geopolygon=geom,\n",
    ")\n",
    "dc"
   ]
  },
  {
   "cell_type": "markdown",
   "id": "8920daa1",
   "metadata": {},
   "source": [
    "# Calculations\n",
    "\n",
    "We create an RGB datacube representation and generate an NDVI datacube."
   ]
  },
  {
   "cell_type": "code",
   "execution_count": null,
   "id": "f0adc4f9",
   "metadata": {},
   "outputs": [],
   "source": [
    "vis = dc.odc.to_rgba(vmin=1, vmax=20000, bands=['red', 'green', 'blue'])\n",
    "vis"
   ]
  },
  {
   "cell_type": "code",
   "execution_count": null,
   "id": "4ed4192d",
   "metadata": {},
   "outputs": [],
   "source": [
    "ndvi = ((dc['nir08'] - dc['red']) / (dc['nir08'] + dc['red'])).clip(0, 1)\n",
    "ndvi.name = 'ndvi'\n",
    "ndvi"
   ]
  },
  {
   "cell_type": "markdown",
   "id": "99b11cdb",
   "metadata": {
    "tags": []
   },
   "source": [
    "# Start Dask Client\n",
    "\n",
    "Start either a local Dask, or use [coiled.io](coiled.io)"
   ]
  },
  {
   "cell_type": "code",
   "execution_count": null,
   "id": "9b51769f",
   "metadata": {},
   "outputs": [],
   "source": [
    "# local Dask\n",
    "\n",
    "from dask.distributed import Client\n",
    "client = Client()\n",
    "client"
   ]
  },
  {
   "cell_type": "raw",
   "id": "23d1937b",
   "metadata": {},
   "source": [
    "%%time\n",
    "\n",
    "import coiled\n",
    "from dask.distributed import Client\n",
    "\n",
    "# start dask cluster on coiled.io\n",
    "cluster = coiled.Cluster(\n",
    "    n_workers=25, software=\"matthewhanson/geo-notebooks-basic\", backend_options={\"region\": \"us-west-2\"},\n",
    "    environ={\"GDAL_DISABLE_READDIR_ON_OPEN\": \"YES\", \"AWS_REQUEST_PAYER\": \"requester\"}\n",
    ")\n",
    "# re-use existing cluster\n",
    "#cluster = coiled.Cluster(name=\"matthewhanson-e6818fa6-e\")\n",
    "client = Client(cluster)\n",
    "client"
   ]
  },
  {
   "cell_type": "markdown",
   "id": "9b22953d",
   "metadata": {
    "tags": []
   },
   "source": [
    "# Compute\n",
    "\n",
    "Now, we kick off our Dask computation by using the Dask persist function, which will keep the data in memory on the cluster for faster access later.\n",
    "\n",
    "The Dask `compute` function is used when we actually want the data, such as displaying it."
   ]
  },
  {
   "cell_type": "code",
   "execution_count": null,
   "id": "c45736e3-9d25-4660-b29d-816114e88472",
   "metadata": {},
   "outputs": [],
   "source": [
    "client"
   ]
  },
  {
   "cell_type": "code",
   "execution_count": null,
   "id": "98c54c0c",
   "metadata": {
    "scrolled": true
   },
   "outputs": [],
   "source": [
    "%%time\n",
    "from dask.distributed import wait\n",
    "\n",
    "vis = client.persist(vis)\n",
    "_ = wait(vis)"
   ]
  },
  {
   "cell_type": "code",
   "execution_count": null,
   "id": "ae6b5594",
   "metadata": {},
   "outputs": [],
   "source": [
    "%%time\n",
    "vis_ = vis.compute()\n",
    "vis_.plot.imshow(col='time', rgb='band', col_wrap=5, robust=True)"
   ]
  },
  {
   "cell_type": "code",
   "execution_count": null,
   "id": "21d06098-4a08-48f0-beb0-5c83f19f6aae",
   "metadata": {},
   "outputs": [],
   "source": [
    "import hvplot.xarray\n",
    "import panel as pn"
   ]
  },
  {
   "cell_type": "code",
   "execution_count": null,
   "id": "f400ecef-fd6f-4126-89b3-802a5bf57fc7",
   "metadata": {},
   "outputs": [],
   "source": [
    "vis_.spatial_ref.crs_wkt"
   ]
  },
  {
   "cell_type": "code",
   "execution_count": null,
   "id": "acfd80ab",
   "metadata": {},
   "outputs": [],
   "source": [
    "hvplot_kwargs = dict(crs=32610, tiles='OSM', \n",
    "                frame_width=400, widgets={'time': pn.widgets.Select})\n",
    "\n",
    "vis_.hvplot.rgb(x='x', y='y', bands='band', **hvplot_kwargs)"
   ]
  },
  {
   "cell_type": "code",
   "execution_count": null,
   "id": "8f90dcb0-bcfb-4604-adde-92f34a18ce5e",
   "metadata": {},
   "outputs": [],
   "source": [
    "vis_.hvplot.rgb(x='x', y='y', bands='band', **hvplot_kwargs)"
   ]
  },
  {
   "cell_type": "code",
   "execution_count": null,
   "id": "3ad16c61",
   "metadata": {},
   "outputs": [],
   "source": [
    "%%time\n",
    "ndvi_ = ndvi.compute()\n",
    "ndvi_.hvplot(x='x', y='y', **hvplot_kwargs)"
   ]
  },
  {
   "cell_type": "markdown",
   "id": "b6326865",
   "metadata": {},
   "source": [
    "Create an animated GIF of NDVI over time using `geogif` with the fetched results."
   ]
  },
  {
   "cell_type": "code",
   "execution_count": null,
   "id": "028dafda",
   "metadata": {},
   "outputs": [],
   "source": [
    "from geogif import gif\n",
    "\n",
    "#ndvi_ = ndvi_c.transpose('time','x','y').compute()\n",
    "\n",
    "gif(ndvi_, fps=1, cmap='YlGn')"
   ]
  },
  {
   "cell_type": "code",
   "execution_count": null,
   "id": "c6c27e1f",
   "metadata": {},
   "outputs": [],
   "source": [
    "%%time\n",
    "ndvi_mean = ndvi.mean(dim=['x', 'y']).compute()\n",
    "ndvi_mean.hvplot()"
   ]
  },
  {
   "cell_type": "markdown",
   "id": "bb97978a",
   "metadata": {},
   "source": [
    "# Shutdown cluster\n",
    "\n",
    "Shut down the cluster."
   ]
  },
  {
   "cell_type": "code",
   "execution_count": null,
   "id": "f21e268d",
   "metadata": {},
   "outputs": [],
   "source": [
    "client.close()"
   ]
  }
 ],
 "metadata": {
  "jupytext": {
   "formats": "ipynb,py:percent"
  },
  "kernelspec": {
   "display_name": "Python 3",
   "language": "python",
   "name": "python3"
  },
  "language_info": {
   "codemirror_mode": {
    "name": "ipython",
    "version": 3
   },
   "file_extension": ".py",
   "mimetype": "text/x-python",
   "name": "python",
   "nbconvert_exporter": "python",
   "pygments_lexer": "ipython3",
   "version": "3.12.3"
  }
 },
 "nbformat": 4,
 "nbformat_minor": 5
}
